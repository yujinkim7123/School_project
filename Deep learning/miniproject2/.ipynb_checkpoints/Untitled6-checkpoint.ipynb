{
 "cells": [
  {
   "cell_type": "code",
   "execution_count": 1,
   "metadata": {},
   "outputs": [],
   "source": [
    "import tensorflow as tf\n",
    "from tensorflow import keras\n",
    "import numpy as np"
   ]
  },
  {
   "cell_type": "code",
   "execution_count": 2,
   "metadata": {},
   "outputs": [],
   "source": [
    "fashion_mnist = keras.datasets.fashion_mnist\n",
    "(X_train_full, y_train_full), (X_test, y_test) = fashion_mnist.load_data()"
   ]
  },
  {
   "cell_type": "code",
   "execution_count": 3,
   "metadata": {},
   "outputs": [],
   "source": [
    "X_train = X_train_full.reshape(X_train_full.shape[0], 28,28,1).astype('float32')\n",
    "X_train = X_train/255.0\n",
    "y_train = y_train_full.astype('float32')\n",
    "y_train = keras.utils.to_categorical(y_train_full, 10)"
   ]
  },
  {
   "cell_type": "code",
   "execution_count": null,
   "metadata": {},
   "outputs": [],
   "source": [
    "k = 10\n",
    "num_val = len(X_train) // k\n",
    "num_epochs = 50\n",
    "all_scores = []\n",
    "for i in range(k):\n",
    "    print('processing fold #', i)\n",
    "    # Prepare the validation data: data from partition # k\n",
    "    X_val = X_train[i * num_val: (i + 1) * num_val]\n",
    "    Y_val = y_train[i * num_val: (i + 1) * num_val]\n",
    "\n",
    "    # Prepare the training data: data from all other partitions\n",
    "    X_train_part = np.concatenate(\n",
    "        [X_train[:i * num_val],\n",
    "         X_train[(i + 1) * num_val:]],\n",
    "        axis=0)\n",
    "    Y_train_part = np.concatenate(\n",
    "        [y_train[:i * num_val],\n",
    "         y_train[(i + 1) * num_val:]],\n",
    "        axis=0)\n",
    "\n",
    "    # Build the Keras model (already compiled)\n",
    "    model = build_model()\n",
    "    # Train the model (in silent mode, verbose=0)\n",
    "    model.fit(X_train_part, Y_train_part,epochs=num_epochs, batch_size=500, verbose=0)\n",
    "    # Evaluate the model on the validation data \n",
    "    val_loss, val_acc = model.evaluate(X_val, Y_val, verbose=0)\n",
    "    all_scores.append(val_acc)"
   ]
  }
 ],
 "metadata": {
  "kernelspec": {
   "display_name": "Python 3",
   "language": "python",
   "name": "python3"
  },
  "language_info": {
   "codemirror_mode": {
    "name": "ipython",
    "version": 3
   },
   "file_extension": ".py",
   "mimetype": "text/x-python",
   "name": "python",
   "nbconvert_exporter": "python",
   "pygments_lexer": "ipython3",
   "version": "3.7.7"
  }
 },
 "nbformat": 4,
 "nbformat_minor": 4
}
