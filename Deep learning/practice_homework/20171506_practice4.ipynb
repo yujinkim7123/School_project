{
 "cells": [
  {
   "cell_type": "code",
   "execution_count": 1,
   "metadata": {},
   "outputs": [
    {
     "data": {
      "text/plain": [
       "array([[ 0.25105539, -0.44968435,  0.49740907],\n",
       "       [ 0.00415715, -0.49646219, -0.35729261]])"
      ]
     },
     "execution_count": 1,
     "metadata": {},
     "output_type": "execute_result"
    }
   ],
   "source": [
    "import numpy as np\n",
    "data = np.random.randn(2,3)\n",
    "data"
   ]
  },
  {
   "cell_type": "code",
   "execution_count": 2,
   "metadata": {},
   "outputs": [
    {
     "data": {
      "text/plain": [
       "array([[ 2.51055386, -4.49684347,  4.97409072],\n",
       "       [ 0.04157147, -4.96462192, -3.57292607]])"
      ]
     },
     "execution_count": 2,
     "metadata": {},
     "output_type": "execute_result"
    }
   ],
   "source": [
    "data*10"
   ]
  },
  {
   "cell_type": "code",
   "execution_count": 3,
   "metadata": {},
   "outputs": [
    {
     "data": {
      "text/plain": [
       "array([[ 0.50211077, -0.89936869,  0.99481814],\n",
       "       [ 0.00831429, -0.99292438, -0.71458521]])"
      ]
     },
     "execution_count": 3,
     "metadata": {},
     "output_type": "execute_result"
    }
   ],
   "source": [
    "data + data"
   ]
  },
  {
   "cell_type": "code",
   "execution_count": 4,
   "metadata": {},
   "outputs": [
    {
     "data": {
      "text/plain": [
       "(2, 3)"
      ]
     },
     "execution_count": 4,
     "metadata": {},
     "output_type": "execute_result"
    }
   ],
   "source": [
    "data.shape"
   ]
  },
  {
   "cell_type": "code",
   "execution_count": 5,
   "metadata": {},
   "outputs": [
    {
     "data": {
      "text/plain": [
       "dtype('float64')"
      ]
     },
     "execution_count": 5,
     "metadata": {},
     "output_type": "execute_result"
    }
   ],
   "source": [
    "data.dtype"
   ]
  },
  {
   "cell_type": "code",
   "execution_count": 22,
   "metadata": {},
   "outputs": [
    {
     "data": {
      "text/plain": [
       "array([6. , 7.5, 8. , 0. , 1. ])"
      ]
     },
     "execution_count": 22,
     "metadata": {},
     "output_type": "execute_result"
    }
   ],
   "source": [
    "data1 = [6,7.5,8,0,1]\n",
    "arr1 = np.array(data1)\n",
    "arr1"
   ]
  },
  {
   "cell_type": "code",
   "execution_count": 23,
   "metadata": {},
   "outputs": [
    {
     "data": {
      "text/plain": [
       "array([[1, 2, 3, 4],\n",
       "       [5, 6, 7, 8]])"
      ]
     },
     "execution_count": 23,
     "metadata": {},
     "output_type": "execute_result"
    }
   ],
   "source": [
    "data2 = [[1, 2, 3, 4], [5, 6, 7, 8]]\n",
    "arr2 = np.array(data2)\n",
    "arr2"
   ]
  },
  {
   "cell_type": "code",
   "execution_count": 24,
   "metadata": {},
   "outputs": [
    {
     "data": {
      "text/plain": [
       "2"
      ]
     },
     "execution_count": 24,
     "metadata": {},
     "output_type": "execute_result"
    }
   ],
   "source": [
    "arr2.ndim"
   ]
  },
  {
   "cell_type": "code",
   "execution_count": 25,
   "metadata": {},
   "outputs": [
    {
     "data": {
      "text/plain": [
       "(2, 4)"
      ]
     },
     "execution_count": 25,
     "metadata": {},
     "output_type": "execute_result"
    }
   ],
   "source": [
    "arr2.shape"
   ]
  },
  {
   "cell_type": "code",
   "execution_count": 26,
   "metadata": {},
   "outputs": [
    {
     "data": {
      "text/plain": [
       "dtype('float64')"
      ]
     },
     "execution_count": 26,
     "metadata": {},
     "output_type": "execute_result"
    }
   ],
   "source": [
    "arr1.dtype"
   ]
  },
  {
   "cell_type": "code",
   "execution_count": 27,
   "metadata": {},
   "outputs": [
    {
     "data": {
      "text/plain": [
       "dtype('int32')"
      ]
     },
     "execution_count": 27,
     "metadata": {},
     "output_type": "execute_result"
    }
   ],
   "source": [
    "arr2.dtype"
   ]
  },
  {
   "cell_type": "code",
   "execution_count": 28,
   "metadata": {},
   "outputs": [
    {
     "data": {
      "text/plain": [
       "array([0., 0., 0., 0., 0., 0., 0., 0., 0., 0.])"
      ]
     },
     "execution_count": 28,
     "metadata": {},
     "output_type": "execute_result"
    }
   ],
   "source": [
    "np.zeros(10)"
   ]
  },
  {
   "cell_type": "code",
   "execution_count": 30,
   "metadata": {},
   "outputs": [
    {
     "data": {
      "text/plain": [
       "array([[1., 1., 1., 1., 1., 1.],\n",
       "       [1., 1., 1., 1., 1., 1.],\n",
       "       [1., 1., 1., 1., 1., 1.]])"
      ]
     },
     "execution_count": 30,
     "metadata": {},
     "output_type": "execute_result"
    }
   ],
   "source": [
    "np.ones((3,6))"
   ]
  },
  {
   "cell_type": "code",
   "execution_count": 31,
   "metadata": {},
   "outputs": [
    {
     "data": {
      "text/plain": [
       "array([[[0., 0.],\n",
       "        [0., 0.],\n",
       "        [0., 0.]],\n",
       "\n",
       "       [[0., 0.],\n",
       "        [0., 0.],\n",
       "        [0., 0.]]])"
      ]
     },
     "execution_count": 31,
     "metadata": {},
     "output_type": "execute_result"
    }
   ],
   "source": [
    "np.empty((2,3,2))"
   ]
  },
  {
   "cell_type": "code",
   "execution_count": 32,
   "metadata": {},
   "outputs": [
    {
     "data": {
      "text/plain": [
       "array([0, 1, 2, 3, 4])"
      ]
     },
     "execution_count": 32,
     "metadata": {},
     "output_type": "execute_result"
    }
   ],
   "source": [
    "np.arange(5)"
   ]
  },
  {
   "cell_type": "code",
   "execution_count": 33,
   "metadata": {},
   "outputs": [
    {
     "data": {
      "text/plain": [
       "dtype('float64')"
      ]
     },
     "execution_count": 33,
     "metadata": {},
     "output_type": "execute_result"
    }
   ],
   "source": [
    "arr1 = np.array([1, 2, 3], dtype=np.float64)\n",
    "arr2 = np.array([1, 2, 3], dtype=np.int32)\n",
    "arr1.dtype"
   ]
  },
  {
   "cell_type": "code",
   "execution_count": 34,
   "metadata": {},
   "outputs": [
    {
     "data": {
      "text/plain": [
       "dtype('int32')"
      ]
     },
     "execution_count": 34,
     "metadata": {},
     "output_type": "execute_result"
    }
   ],
   "source": [
    "arr2.dtype"
   ]
  },
  {
   "cell_type": "code",
   "execution_count": 35,
   "metadata": {},
   "outputs": [],
   "source": [
    "arr = np.array([1, 2, 3, 4, 5])"
   ]
  },
  {
   "cell_type": "code",
   "execution_count": 36,
   "metadata": {},
   "outputs": [
    {
     "data": {
      "text/plain": [
       "dtype('int32')"
      ]
     },
     "execution_count": 36,
     "metadata": {},
     "output_type": "execute_result"
    }
   ],
   "source": [
    "arr.dtype"
   ]
  },
  {
   "cell_type": "code",
   "execution_count": 37,
   "metadata": {},
   "outputs": [],
   "source": [
    "float_arr = arr.astype(np.float64)"
   ]
  },
  {
   "cell_type": "code",
   "execution_count": 38,
   "metadata": {},
   "outputs": [
    {
     "data": {
      "text/plain": [
       "dtype('float64')"
      ]
     },
     "execution_count": 38,
     "metadata": {},
     "output_type": "execute_result"
    }
   ],
   "source": [
    "float_arr.dtype"
   ]
  },
  {
   "cell_type": "code",
   "execution_count": 39,
   "metadata": {},
   "outputs": [
    {
     "data": {
      "text/plain": [
       "array([ 3, -1, -2,  0, 12, 10])"
      ]
     },
     "execution_count": 39,
     "metadata": {},
     "output_type": "execute_result"
    }
   ],
   "source": [
    "arr = np.array([3.7, -1.2, -2.6, 0.5, 12.9, 10.1])\n",
    "int_arr = arr.astype(np.int32)\n",
    "int_arr "
   ]
  },
  {
   "cell_type": "code",
   "execution_count": 43,
   "metadata": {},
   "outputs": [],
   "source": [
    "numeric_strings = np.array(['1.25', '-9.6', '42'], dtype=np.string_)\n",
    "arr4 = numeric_strings.astype(float)"
   ]
  },
  {
   "cell_type": "code",
   "execution_count": 44,
   "metadata": {},
   "outputs": [
    {
     "data": {
      "text/plain": [
       "dtype('float64')"
      ]
     },
     "execution_count": 44,
     "metadata": {},
     "output_type": "execute_result"
    }
   ],
   "source": [
    "arr4.dtype"
   ]
  },
  {
   "cell_type": "code",
   "execution_count": 45,
   "metadata": {},
   "outputs": [
    {
     "data": {
      "text/plain": [
       "array([         0, 1075314688,          0, 1075707904,          0,\n",
       "       1075838976,          0, 1072693248], dtype=uint32)"
      ]
     },
     "execution_count": 45,
     "metadata": {},
     "output_type": "execute_result"
    }
   ],
   "source": [
    "empty_uint32 = np.empty(8, dtype='u4')\n",
    "empty_uint32"
   ]
  },
  {
   "cell_type": "code",
   "execution_count": 46,
   "metadata": {},
   "outputs": [
    {
     "data": {
      "text/plain": [
       "array([[1., 2., 3.],\n",
       "       [4., 5., 6.]])"
      ]
     },
     "execution_count": 46,
     "metadata": {},
     "output_type": "execute_result"
    }
   ],
   "source": [
    "arr = np.array([[1., 2., 3.], [4., 5., 6.]])\n",
    "arr"
   ]
  },
  {
   "cell_type": "code",
   "execution_count": 47,
   "metadata": {},
   "outputs": [
    {
     "data": {
      "text/plain": [
       "array([[ 1.,  4.,  9.],\n",
       "       [16., 25., 36.]])"
      ]
     },
     "execution_count": 47,
     "metadata": {},
     "output_type": "execute_result"
    }
   ],
   "source": [
    "arr*arr"
   ]
  },
  {
   "cell_type": "code",
   "execution_count": 48,
   "metadata": {},
   "outputs": [
    {
     "data": {
      "text/plain": [
       "array([[0., 0., 0.],\n",
       "       [0., 0., 0.]])"
      ]
     },
     "execution_count": 48,
     "metadata": {},
     "output_type": "execute_result"
    }
   ],
   "source": [
    "arr - arr"
   ]
  },
  {
   "cell_type": "code",
   "execution_count": 49,
   "metadata": {},
   "outputs": [
    {
     "data": {
      "text/plain": [
       "array([[1.        , 0.5       , 0.33333333],\n",
       "       [0.25      , 0.2       , 0.16666667]])"
      ]
     },
     "execution_count": 49,
     "metadata": {},
     "output_type": "execute_result"
    }
   ],
   "source": [
    "1/ arr"
   ]
  },
  {
   "cell_type": "code",
   "execution_count": 51,
   "metadata": {},
   "outputs": [
    {
     "data": {
      "text/plain": [
       "array([[1.        , 1.41421356, 1.73205081],\n",
       "       [2.        , 2.23606798, 2.44948974]])"
      ]
     },
     "execution_count": 51,
     "metadata": {},
     "output_type": "execute_result"
    }
   ],
   "source": [
    "arr ** 0.5"
   ]
  },
  {
   "cell_type": "code",
   "execution_count": 52,
   "metadata": {},
   "outputs": [
    {
     "data": {
      "text/plain": [
       "array([[ 0.,  4.,  1.],\n",
       "       [ 7.,  2., 12.]])"
      ]
     },
     "execution_count": 52,
     "metadata": {},
     "output_type": "execute_result"
    }
   ],
   "source": [
    "arr2 = np.array([[0., 4., 1.], [7., 2., 12.]])\n",
    "arr2"
   ]
  },
  {
   "cell_type": "code",
   "execution_count": 53,
   "metadata": {},
   "outputs": [
    {
     "data": {
      "text/plain": [
       "array([[False,  True, False],\n",
       "       [ True, False,  True]])"
      ]
     },
     "execution_count": 53,
     "metadata": {},
     "output_type": "execute_result"
    }
   ],
   "source": [
    "arr2 > arr"
   ]
  },
  {
   "cell_type": "code",
   "execution_count": 54,
   "metadata": {},
   "outputs": [
    {
     "data": {
      "text/plain": [
       "array([0, 1, 2, 3, 4, 5, 6, 7, 8, 9])"
      ]
     },
     "execution_count": 54,
     "metadata": {},
     "output_type": "execute_result"
    }
   ],
   "source": [
    "arr = np.arange(10)\n",
    "arr"
   ]
  },
  {
   "cell_type": "code",
   "execution_count": 55,
   "metadata": {},
   "outputs": [
    {
     "data": {
      "text/plain": [
       "5"
      ]
     },
     "execution_count": 55,
     "metadata": {},
     "output_type": "execute_result"
    }
   ],
   "source": [
    "arr[5]"
   ]
  },
  {
   "cell_type": "code",
   "execution_count": 56,
   "metadata": {},
   "outputs": [
    {
     "data": {
      "text/plain": [
       "array([5, 6, 7])"
      ]
     },
     "execution_count": 56,
     "metadata": {},
     "output_type": "execute_result"
    }
   ],
   "source": [
    "arr[5:8]"
   ]
  },
  {
   "cell_type": "code",
   "execution_count": 58,
   "metadata": {},
   "outputs": [
    {
     "data": {
      "text/plain": [
       "array([ 0,  1,  2,  3,  4, 12, 12, 12,  8,  9])"
      ]
     },
     "execution_count": 58,
     "metadata": {},
     "output_type": "execute_result"
    }
   ],
   "source": [
    "arr[5:8] = 12\n",
    "arr"
   ]
  },
  {
   "cell_type": "code",
   "execution_count": 59,
   "metadata": {},
   "outputs": [
    {
     "data": {
      "text/plain": [
       "array([12, 12, 12])"
      ]
     },
     "execution_count": 59,
     "metadata": {},
     "output_type": "execute_result"
    }
   ],
   "source": [
    "arr_slice = arr[5:8]\n",
    "arr_slice"
   ]
  },
  {
   "cell_type": "code",
   "execution_count": 60,
   "metadata": {},
   "outputs": [
    {
     "data": {
      "text/plain": [
       "array([    0,     1,     2,     3,     4,    12, 12345,    12,     8,\n",
       "           9])"
      ]
     },
     "execution_count": 60,
     "metadata": {},
     "output_type": "execute_result"
    }
   ],
   "source": [
    "arr_slice[1] = 12345\n",
    "arr"
   ]
  },
  {
   "cell_type": "code",
   "execution_count": 61,
   "metadata": {},
   "outputs": [
    {
     "data": {
      "text/plain": [
       "array([ 0,  1,  2,  3,  4, 64, 64, 64,  8,  9])"
      ]
     },
     "execution_count": 61,
     "metadata": {},
     "output_type": "execute_result"
    }
   ],
   "source": [
    "arr_slice[:] = 64\n",
    "arr"
   ]
  },
  {
   "cell_type": "code",
   "execution_count": 62,
   "metadata": {},
   "outputs": [
    {
     "data": {
      "text/plain": [
       "array([[1, 2, 3],\n",
       "       [4, 5, 6],\n",
       "       [7, 8, 9]])"
      ]
     },
     "execution_count": 62,
     "metadata": {},
     "output_type": "execute_result"
    }
   ],
   "source": [
    "arr2d = np.array([[1, 2, 3], [4, 5, 6], [7, 8, 9]])\n",
    "arr2d"
   ]
  },
  {
   "cell_type": "code",
   "execution_count": 63,
   "metadata": {},
   "outputs": [
    {
     "data": {
      "text/plain": [
       "array([7, 8, 9])"
      ]
     },
     "execution_count": 63,
     "metadata": {},
     "output_type": "execute_result"
    }
   ],
   "source": [
    "arr2d[2]"
   ]
  },
  {
   "cell_type": "code",
   "execution_count": 64,
   "metadata": {},
   "outputs": [
    {
     "data": {
      "text/plain": [
       "3"
      ]
     },
     "execution_count": 64,
     "metadata": {},
     "output_type": "execute_result"
    }
   ],
   "source": [
    "arr2d[0][2]"
   ]
  },
  {
   "cell_type": "code",
   "execution_count": 65,
   "metadata": {},
   "outputs": [
    {
     "data": {
      "text/plain": [
       "3"
      ]
     },
     "execution_count": 65,
     "metadata": {},
     "output_type": "execute_result"
    }
   ],
   "source": [
    "arr2d[0, 2]"
   ]
  },
  {
   "cell_type": "code",
   "execution_count": 66,
   "metadata": {},
   "outputs": [
    {
     "data": {
      "text/plain": [
       "array([[[ 1,  2,  3],\n",
       "        [ 4,  5,  6]],\n",
       "\n",
       "       [[ 7,  8,  9],\n",
       "        [10, 11, 12]]])"
      ]
     },
     "execution_count": 66,
     "metadata": {},
     "output_type": "execute_result"
    }
   ],
   "source": [
    "arr3d = np.array([[[1, 2, 3], [4, 5, 6]], [[7, 8, 9], [10, 11, 12]]])\n",
    "arr3d"
   ]
  },
  {
   "cell_type": "code",
   "execution_count": 67,
   "metadata": {},
   "outputs": [
    {
     "data": {
      "text/plain": [
       "(2, 2, 3)"
      ]
     },
     "execution_count": 67,
     "metadata": {},
     "output_type": "execute_result"
    }
   ],
   "source": [
    "arr3d.shape"
   ]
  },
  {
   "cell_type": "code",
   "execution_count": 68,
   "metadata": {},
   "outputs": [
    {
     "data": {
      "text/plain": [
       "array([[1, 2, 3],\n",
       "       [4, 5, 6]])"
      ]
     },
     "execution_count": 68,
     "metadata": {},
     "output_type": "execute_result"
    }
   ],
   "source": [
    "arr3d[0]"
   ]
  },
  {
   "cell_type": "code",
   "execution_count": 69,
   "metadata": {},
   "outputs": [
    {
     "data": {
      "text/plain": [
       "(2, 3)"
      ]
     },
     "execution_count": 69,
     "metadata": {},
     "output_type": "execute_result"
    }
   ],
   "source": [
    "arr3d[0].shape"
   ]
  },
  {
   "cell_type": "code",
   "execution_count": 71,
   "metadata": {},
   "outputs": [
    {
     "data": {
      "text/plain": [
       "array([[[42, 42, 42],\n",
       "        [42, 42, 42]],\n",
       "\n",
       "       [[ 7,  8,  9],\n",
       "        [10, 11, 12]]])"
      ]
     },
     "execution_count": 71,
     "metadata": {},
     "output_type": "execute_result"
    }
   ],
   "source": [
    "old_values = arr3d[0].copy()\n",
    "arr3d[0] = 42\n",
    "arr3d"
   ]
  },
  {
   "cell_type": "code",
   "execution_count": 72,
   "metadata": {},
   "outputs": [
    {
     "data": {
      "text/plain": [
       "array([[[ 1,  2,  3],\n",
       "        [ 4,  5,  6]],\n",
       "\n",
       "       [[ 7,  8,  9],\n",
       "        [10, 11, 12]]])"
      ]
     },
     "execution_count": 72,
     "metadata": {},
     "output_type": "execute_result"
    }
   ],
   "source": [
    "arr3d[0] = old_values\n",
    "arr3d"
   ]
  },
  {
   "cell_type": "code",
   "execution_count": 73,
   "metadata": {},
   "outputs": [
    {
     "data": {
      "text/plain": [
       "array([7, 8, 9])"
      ]
     },
     "execution_count": 73,
     "metadata": {},
     "output_type": "execute_result"
    }
   ],
   "source": [
    "arr3d[1, 0]"
   ]
  },
  {
   "cell_type": "code",
   "execution_count": 74,
   "metadata": {},
   "outputs": [
    {
     "data": {
      "text/plain": [
       "array([[ 7,  8,  9],\n",
       "       [10, 11, 12]])"
      ]
     },
     "execution_count": 74,
     "metadata": {},
     "output_type": "execute_result"
    }
   ],
   "source": [
    "x = arr3d[1]\n",
    "x"
   ]
  },
  {
   "cell_type": "code",
   "execution_count": 75,
   "metadata": {},
   "outputs": [
    {
     "data": {
      "text/plain": [
       "array([7, 8, 9])"
      ]
     },
     "execution_count": 75,
     "metadata": {},
     "output_type": "execute_result"
    }
   ],
   "source": [
    "x[0]"
   ]
  },
  {
   "cell_type": "code",
   "execution_count": 76,
   "metadata": {},
   "outputs": [
    {
     "data": {
      "text/plain": [
       "array([ 1,  2,  3,  4, 64])"
      ]
     },
     "execution_count": 76,
     "metadata": {},
     "output_type": "execute_result"
    }
   ],
   "source": [
    "arr[1:6]"
   ]
  },
  {
   "cell_type": "code",
   "execution_count": 77,
   "metadata": {},
   "outputs": [
    {
     "data": {
      "text/plain": [
       "array([[1, 2, 3],\n",
       "       [4, 5, 6]])"
      ]
     },
     "execution_count": 77,
     "metadata": {},
     "output_type": "execute_result"
    }
   ],
   "source": [
    "arr2d[:2] "
   ]
  },
  {
   "cell_type": "code",
   "execution_count": 78,
   "metadata": {},
   "outputs": [
    {
     "data": {
      "text/plain": [
       "array([[2, 3],\n",
       "       [5, 6]])"
      ]
     },
     "execution_count": 78,
     "metadata": {},
     "output_type": "execute_result"
    }
   ],
   "source": [
    "arr2d[:2, 1:]"
   ]
  },
  {
   "cell_type": "code",
   "execution_count": 86,
   "metadata": {},
   "outputs": [
    {
     "data": {
      "text/plain": [
       "(2,)"
      ]
     },
     "execution_count": 86,
     "metadata": {},
     "output_type": "execute_result"
    }
   ],
   "source": [
    "ex = arr2d[1, :2]\n",
    "ex.shape"
   ]
  },
  {
   "cell_type": "code",
   "execution_count": 81,
   "metadata": {},
   "outputs": [
    {
     "data": {
      "text/plain": [
       "array([3, 6])"
      ]
     },
     "execution_count": 81,
     "metadata": {},
     "output_type": "execute_result"
    }
   ],
   "source": [
    "arr2d[:2, 2]"
   ]
  },
  {
   "cell_type": "code",
   "execution_count": 82,
   "metadata": {},
   "outputs": [
    {
     "data": {
      "text/plain": [
       "array([[1],\n",
       "       [4],\n",
       "       [7]])"
      ]
     },
     "execution_count": 82,
     "metadata": {},
     "output_type": "execute_result"
    }
   ],
   "source": [
    "arr2d[:, :1]"
   ]
  },
  {
   "cell_type": "code",
   "execution_count": 83,
   "metadata": {},
   "outputs": [],
   "source": [
    "arr2d[:2, 1:] = 0"
   ]
  },
  {
   "cell_type": "code",
   "execution_count": 84,
   "metadata": {},
   "outputs": [
    {
     "data": {
      "text/plain": [
       "array([[1, 0, 0],\n",
       "       [4, 0, 0],\n",
       "       [7, 8, 9]])"
      ]
     },
     "execution_count": 84,
     "metadata": {},
     "output_type": "execute_result"
    }
   ],
   "source": [
    "arr2d"
   ]
  },
  {
   "cell_type": "markdown",
   "metadata": {},
   "source": [
    "# boolean indexing"
   ]
  },
  {
   "cell_type": "code",
   "execution_count": 2,
   "metadata": {},
   "outputs": [],
   "source": [
    "import numpy as np\n",
    "names = np.array(['Bob', 'Joe', 'Will', 'Bob', 'Will', 'Joe', 'Joe'])\n",
    "data = np.random.randn(7, 4)"
   ]
  },
  {
   "cell_type": "code",
   "execution_count": 3,
   "metadata": {},
   "outputs": [
    {
     "data": {
      "text/plain": [
       "array(['Bob', 'Joe', 'Will', 'Bob', 'Will', 'Joe', 'Joe'], dtype='<U4')"
      ]
     },
     "execution_count": 3,
     "metadata": {},
     "output_type": "execute_result"
    }
   ],
   "source": [
    "names"
   ]
  },
  {
   "cell_type": "code",
   "execution_count": 4,
   "metadata": {},
   "outputs": [
    {
     "data": {
      "text/plain": [
       "array([[-0.4593    , -0.82055152, -0.90370693,  1.13882783],\n",
       "       [-1.0909358 , -2.616684  , -0.50456344, -1.3626194 ],\n",
       "       [ 1.78970489,  1.69927513,  2.37860947, -0.80112255],\n",
       "       [-0.52789127, -0.07073788,  0.74344786, -2.16440252],\n",
       "       [ 1.0291443 ,  0.14419012, -0.98607026, -0.16623984],\n",
       "       [ 1.8140079 ,  0.76753116,  1.71575737,  0.94011244],\n",
       "       [-0.92024829,  0.51845809,  0.57829169,  0.29609768]])"
      ]
     },
     "execution_count": 4,
     "metadata": {},
     "output_type": "execute_result"
    }
   ],
   "source": [
    "data"
   ]
  },
  {
   "cell_type": "code",
   "execution_count": 5,
   "metadata": {},
   "outputs": [
    {
     "data": {
      "text/plain": [
       "array([ True, False, False,  True, False, False, False])"
      ]
     },
     "execution_count": 5,
     "metadata": {},
     "output_type": "execute_result"
    }
   ],
   "source": [
    "names == 'Bob' "
   ]
  },
  {
   "cell_type": "code",
   "execution_count": 6,
   "metadata": {},
   "outputs": [
    {
     "data": {
      "text/plain": [
       "array([[-0.4593    , -0.82055152, -0.90370693,  1.13882783],\n",
       "       [-0.52789127, -0.07073788,  0.74344786, -2.16440252]])"
      ]
     },
     "execution_count": 6,
     "metadata": {},
     "output_type": "execute_result"
    }
   ],
   "source": [
    "data[names == 'Bob']"
   ]
  },
  {
   "cell_type": "code",
   "execution_count": 7,
   "metadata": {},
   "outputs": [
    {
     "data": {
      "text/plain": [
       "array([[-0.90370693,  1.13882783],\n",
       "       [ 0.74344786, -2.16440252]])"
      ]
     },
     "execution_count": 7,
     "metadata": {},
     "output_type": "execute_result"
    }
   ],
   "source": [
    "data[names == 'Bob', 2:]"
   ]
  },
  {
   "cell_type": "code",
   "execution_count": 8,
   "metadata": {},
   "outputs": [
    {
     "data": {
      "text/plain": [
       "array([ 1.13882783, -2.16440252])"
      ]
     },
     "execution_count": 8,
     "metadata": {},
     "output_type": "execute_result"
    }
   ],
   "source": [
    "data[names == 'Bob', 3]"
   ]
  },
  {
   "cell_type": "code",
   "execution_count": 9,
   "metadata": {},
   "outputs": [
    {
     "data": {
      "text/plain": [
       "array([False,  True,  True, False,  True,  True,  True])"
      ]
     },
     "execution_count": 9,
     "metadata": {},
     "output_type": "execute_result"
    }
   ],
   "source": [
    "names != 'Bob'"
   ]
  },
  {
   "cell_type": "code",
   "execution_count": 10,
   "metadata": {},
   "outputs": [
    {
     "data": {
      "text/plain": [
       "array([False,  True,  True, False,  True,  True,  True])"
      ]
     },
     "execution_count": 10,
     "metadata": {},
     "output_type": "execute_result"
    }
   ],
   "source": [
    "~(names == 'Bob')"
   ]
  },
  {
   "cell_type": "code",
   "execution_count": 11,
   "metadata": {},
   "outputs": [
    {
     "data": {
      "text/plain": [
       "array([[-1.0909358 , -2.616684  , -0.50456344, -1.3626194 ],\n",
       "       [ 1.78970489,  1.69927513,  2.37860947, -0.80112255],\n",
       "       [ 1.0291443 ,  0.14419012, -0.98607026, -0.16623984],\n",
       "       [ 1.8140079 ,  0.76753116,  1.71575737,  0.94011244],\n",
       "       [-0.92024829,  0.51845809,  0.57829169,  0.29609768]])"
      ]
     },
     "execution_count": 11,
     "metadata": {},
     "output_type": "execute_result"
    }
   ],
   "source": [
    "data[~(names == 'Bob')]"
   ]
  },
  {
   "cell_type": "code",
   "execution_count": 12,
   "metadata": {},
   "outputs": [],
   "source": [
    "mask = (names == 'Bob') | (names == 'Will')"
   ]
  },
  {
   "cell_type": "code",
   "execution_count": 13,
   "metadata": {},
   "outputs": [
    {
     "data": {
      "text/plain": [
       "array([ True, False,  True,  True,  True, False, False])"
      ]
     },
     "execution_count": 13,
     "metadata": {},
     "output_type": "execute_result"
    }
   ],
   "source": [
    "mask "
   ]
  },
  {
   "cell_type": "code",
   "execution_count": 14,
   "metadata": {},
   "outputs": [
    {
     "data": {
      "text/plain": [
       "array([[-0.4593    , -0.82055152, -0.90370693,  1.13882783],\n",
       "       [ 1.78970489,  1.69927513,  2.37860947, -0.80112255],\n",
       "       [-0.52789127, -0.07073788,  0.74344786, -2.16440252],\n",
       "       [ 1.0291443 ,  0.14419012, -0.98607026, -0.16623984]])"
      ]
     },
     "execution_count": 14,
     "metadata": {},
     "output_type": "execute_result"
    }
   ],
   "source": [
    "data[mask]"
   ]
  },
  {
   "cell_type": "code",
   "execution_count": 15,
   "metadata": {},
   "outputs": [],
   "source": [
    "data[data < 0] = 0"
   ]
  },
  {
   "cell_type": "code",
   "execution_count": 16,
   "metadata": {},
   "outputs": [
    {
     "data": {
      "text/plain": [
       "array([[0.        , 0.        , 0.        , 1.13882783],\n",
       "       [0.        , 0.        , 0.        , 0.        ],\n",
       "       [1.78970489, 1.69927513, 2.37860947, 0.        ],\n",
       "       [0.        , 0.        , 0.74344786, 0.        ],\n",
       "       [1.0291443 , 0.14419012, 0.        , 0.        ],\n",
       "       [1.8140079 , 0.76753116, 1.71575737, 0.94011244],\n",
       "       [0.        , 0.51845809, 0.57829169, 0.29609768]])"
      ]
     },
     "execution_count": 16,
     "metadata": {},
     "output_type": "execute_result"
    }
   ],
   "source": [
    "data"
   ]
  },
  {
   "cell_type": "code",
   "execution_count": 17,
   "metadata": {},
   "outputs": [],
   "source": [
    "data[names != 'Joe'] = 7"
   ]
  },
  {
   "cell_type": "code",
   "execution_count": 18,
   "metadata": {},
   "outputs": [
    {
     "data": {
      "text/plain": [
       "array([[7.        , 7.        , 7.        , 7.        ],\n",
       "       [0.        , 0.        , 0.        , 0.        ],\n",
       "       [7.        , 7.        , 7.        , 7.        ],\n",
       "       [7.        , 7.        , 7.        , 7.        ],\n",
       "       [7.        , 7.        , 7.        , 7.        ],\n",
       "       [1.8140079 , 0.76753116, 1.71575737, 0.94011244],\n",
       "       [0.        , 0.51845809, 0.57829169, 0.29609768]])"
      ]
     },
     "execution_count": 18,
     "metadata": {},
     "output_type": "execute_result"
    }
   ],
   "source": [
    "data"
   ]
  },
  {
   "cell_type": "code",
   "execution_count": 19,
   "metadata": {},
   "outputs": [
    {
     "data": {
      "text/plain": [
       "array([0, 1, 2, 3, 4, 5, 6, 7])"
      ]
     },
     "execution_count": 19,
     "metadata": {},
     "output_type": "execute_result"
    }
   ],
   "source": [
    "arr = np.arange(8)\n",
    "arr"
   ]
  },
  {
   "cell_type": "code",
   "execution_count": 21,
   "metadata": {},
   "outputs": [
    {
     "data": {
      "text/plain": [
       "array([[0, 1],\n",
       "       [2, 3],\n",
       "       [4, 5],\n",
       "       [6, 7]])"
      ]
     },
     "execution_count": 21,
     "metadata": {},
     "output_type": "execute_result"
    }
   ],
   "source": [
    "arr.reshape((4, 2)) "
   ]
  },
  {
   "cell_type": "code",
   "execution_count": 22,
   "metadata": {},
   "outputs": [
    {
     "data": {
      "text/plain": [
       "array([[0, 1, 2, 3],\n",
       "       [4, 5, 6, 7]])"
      ]
     },
     "execution_count": 22,
     "metadata": {},
     "output_type": "execute_result"
    }
   ],
   "source": [
    "arr.reshape((4, 2)).reshape((2, 4))"
   ]
  },
  {
   "cell_type": "code",
   "execution_count": 23,
   "metadata": {},
   "outputs": [],
   "source": [
    "arr = np.arange(15)"
   ]
  },
  {
   "cell_type": "code",
   "execution_count": 24,
   "metadata": {},
   "outputs": [
    {
     "data": {
      "text/plain": [
       "array([[ 0,  1,  2],\n",
       "       [ 3,  4,  5],\n",
       "       [ 6,  7,  8],\n",
       "       [ 9, 10, 11],\n",
       "       [12, 13, 14]])"
      ]
     },
     "execution_count": 24,
     "metadata": {},
     "output_type": "execute_result"
    }
   ],
   "source": [
    "arr.reshape((5, -1))"
   ]
  },
  {
   "cell_type": "code",
   "execution_count": 25,
   "metadata": {},
   "outputs": [
    {
     "data": {
      "text/plain": [
       "array([ 0,  1,  2,  3,  4,  5,  6,  7,  8,  9, 10, 11, 12, 13, 14])"
      ]
     },
     "execution_count": 25,
     "metadata": {},
     "output_type": "execute_result"
    }
   ],
   "source": [
    "arr"
   ]
  },
  {
   "cell_type": "code",
   "execution_count": 26,
   "metadata": {},
   "outputs": [],
   "source": [
    "arr = np.arange(15)\n",
    "other_arr = np.ones((3, 5))"
   ]
  },
  {
   "cell_type": "code",
   "execution_count": 27,
   "metadata": {},
   "outputs": [
    {
     "data": {
      "text/plain": [
       "(3, 5)"
      ]
     },
     "execution_count": 27,
     "metadata": {},
     "output_type": "execute_result"
    }
   ],
   "source": [
    "other_arr.shape"
   ]
  },
  {
   "cell_type": "code",
   "execution_count": 33,
   "metadata": {},
   "outputs": [
    {
     "data": {
      "text/plain": [
       "array([[ 0,  1,  2,  3,  4],\n",
       "       [ 5,  6,  7,  8,  9],\n",
       "       [10, 11, 12, 13, 14]])"
      ]
     },
     "execution_count": 33,
     "metadata": {},
     "output_type": "execute_result"
    }
   ],
   "source": [
    "arr.reshape(other_arr.shape)"
   ]
  },
  {
   "cell_type": "code",
   "execution_count": 31,
   "metadata": {},
   "outputs": [
    {
     "data": {
      "text/plain": [
       "array([[ 0,  1,  2],\n",
       "       [ 3,  4,  5],\n",
       "       [ 6,  7,  8],\n",
       "       [ 9, 10, 11],\n",
       "       [12, 13, 14]])"
      ]
     },
     "execution_count": 31,
     "metadata": {},
     "output_type": "execute_result"
    }
   ],
   "source": [
    "arr = np.arange(15).reshape((5, 3))\n",
    "arr"
   ]
  },
  {
   "cell_type": "code",
   "execution_count": 34,
   "metadata": {},
   "outputs": [
    {
     "data": {
      "text/plain": [
       "array([ 0,  1,  2,  3,  4,  5,  6,  7,  8,  9, 10, 11, 12, 13, 14])"
      ]
     },
     "execution_count": 34,
     "metadata": {},
     "output_type": "execute_result"
    }
   ],
   "source": [
    "arr.ravel()\n",
    "arr.flatten()"
   ]
  },
  {
   "cell_type": "code",
   "execution_count": 36,
   "metadata": {},
   "outputs": [
    {
     "data": {
      "text/plain": [
       "array([[0., 0., 0., 0.],\n",
       "       [1., 1., 1., 1.],\n",
       "       [2., 2., 2., 2.],\n",
       "       [3., 3., 3., 3.],\n",
       "       [4., 4., 4., 4.],\n",
       "       [5., 5., 5., 5.],\n",
       "       [6., 6., 6., 6.],\n",
       "       [7., 7., 7., 7.]])"
      ]
     },
     "execution_count": 36,
     "metadata": {},
     "output_type": "execute_result"
    }
   ],
   "source": [
    "arr = np.empty((8, 4))\n",
    "for i in range(8):\n",
    "    arr[i] = i\n",
    "arr"
   ]
  },
  {
   "cell_type": "code",
   "execution_count": 37,
   "metadata": {},
   "outputs": [
    {
     "data": {
      "text/plain": [
       "array([[4., 4., 4., 4.],\n",
       "       [3., 3., 3., 3.],\n",
       "       [0., 0., 0., 0.],\n",
       "       [6., 6., 6., 6.]])"
      ]
     },
     "execution_count": 37,
     "metadata": {},
     "output_type": "execute_result"
    }
   ],
   "source": [
    "arr[[4, 3, 0, 6]]"
   ]
  },
  {
   "cell_type": "code",
   "execution_count": 38,
   "metadata": {},
   "outputs": [
    {
     "data": {
      "text/plain": [
       "array([[5., 5., 5., 5.],\n",
       "       [3., 3., 3., 3.],\n",
       "       [1., 1., 1., 1.]])"
      ]
     },
     "execution_count": 38,
     "metadata": {},
     "output_type": "execute_result"
    }
   ],
   "source": [
    "arr[[-3, -5, -7]]"
   ]
  },
  {
   "cell_type": "code",
   "execution_count": 40,
   "metadata": {},
   "outputs": [],
   "source": [
    "arr = np.arange(32).reshape((8, 4))"
   ]
  },
  {
   "cell_type": "code",
   "execution_count": 41,
   "metadata": {},
   "outputs": [],
   "source": [
    "ar1 = arr[[1, 5, 7, 2], [0, 3, 1, 2]]"
   ]
  },
  {
   "cell_type": "code",
   "execution_count": 42,
   "metadata": {},
   "outputs": [
    {
     "data": {
      "text/plain": [
       "array([ 4, 23, 29, 10])"
      ]
     },
     "execution_count": 42,
     "metadata": {},
     "output_type": "execute_result"
    }
   ],
   "source": [
    "ar1"
   ]
  },
  {
   "cell_type": "code",
   "execution_count": 43,
   "metadata": {},
   "outputs": [],
   "source": [
    "ar1[0] = 10"
   ]
  },
  {
   "cell_type": "code",
   "execution_count": 44,
   "metadata": {},
   "outputs": [
    {
     "data": {
      "text/plain": [
       "array([10, 23, 29, 10])"
      ]
     },
     "execution_count": 44,
     "metadata": {},
     "output_type": "execute_result"
    }
   ],
   "source": [
    "ar1"
   ]
  },
  {
   "cell_type": "code",
   "execution_count": 45,
   "metadata": {},
   "outputs": [
    {
     "data": {
      "text/plain": [
       "array([[ 0,  1,  2,  3],\n",
       "       [ 4,  5,  6,  7],\n",
       "       [ 8,  9, 10, 11],\n",
       "       [12, 13, 14, 15],\n",
       "       [16, 17, 18, 19],\n",
       "       [20, 21, 22, 23],\n",
       "       [24, 25, 26, 27],\n",
       "       [28, 29, 30, 31]])"
      ]
     },
     "execution_count": 45,
     "metadata": {},
     "output_type": "execute_result"
    }
   ],
   "source": [
    "arr"
   ]
  },
  {
   "cell_type": "code",
   "execution_count": 46,
   "metadata": {},
   "outputs": [
    {
     "data": {
      "text/plain": [
       "array([[ 4,  7,  5,  6],\n",
       "       [20, 23, 21, 22],\n",
       "       [28, 31, 29, 30],\n",
       "       [ 8, 11,  9, 10]])"
      ]
     },
     "execution_count": 46,
     "metadata": {},
     "output_type": "execute_result"
    }
   ],
   "source": [
    "arr[[1, 5, 7, 2]][:, [0, 3, 1, 2]]"
   ]
  },
  {
   "cell_type": "code",
   "execution_count": 47,
   "metadata": {},
   "outputs": [
    {
     "data": {
      "text/plain": [
       "array([[ 4,  5,  6,  7],\n",
       "       [20, 21, 22, 23],\n",
       "       [28, 29, 30, 31],\n",
       "       [ 8,  9, 10, 11]])"
      ]
     },
     "execution_count": 47,
     "metadata": {},
     "output_type": "execute_result"
    }
   ],
   "source": [
    "arr[[1, 5, 7, 2],:]"
   ]
  },
  {
   "cell_type": "code",
   "execution_count": 48,
   "metadata": {},
   "outputs": [
    {
     "data": {
      "text/plain": [
       "array([[ 0,  1,  2,  3,  4],\n",
       "       [ 5,  6,  7,  8,  9],\n",
       "       [10, 11, 12, 13, 14]])"
      ]
     },
     "execution_count": 48,
     "metadata": {},
     "output_type": "execute_result"
    }
   ],
   "source": [
    "arr = np.arange(15).reshape((3, 5))\n",
    "arr"
   ]
  },
  {
   "cell_type": "code",
   "execution_count": 49,
   "metadata": {},
   "outputs": [
    {
     "data": {
      "text/plain": [
       "array([[ 0,  5, 10],\n",
       "       [ 1,  6, 11],\n",
       "       [ 2,  7, 12],\n",
       "       [ 3,  8, 13],\n",
       "       [ 4,  9, 14]])"
      ]
     },
     "execution_count": 49,
     "metadata": {},
     "output_type": "execute_result"
    }
   ],
   "source": [
    "arr.T"
   ]
  },
  {
   "cell_type": "code",
   "execution_count": 50,
   "metadata": {},
   "outputs": [],
   "source": [
    "arr = np.random.randn(6, 3) "
   ]
  },
  {
   "cell_type": "code",
   "execution_count": 51,
   "metadata": {},
   "outputs": [
    {
     "data": {
      "text/plain": [
       "array([[ 1.582433  ,  0.4779039 , -0.08880975],\n",
       "       [ 0.4779039 ,  6.32216557, -2.62394108],\n",
       "       [-0.08880975, -2.62394108,  1.23247688]])"
      ]
     },
     "execution_count": 51,
     "metadata": {},
     "output_type": "execute_result"
    }
   ],
   "source": [
    "np.dot(arr.T, arr)"
   ]
  },
  {
   "cell_type": "code",
   "execution_count": 52,
   "metadata": {},
   "outputs": [],
   "source": [
    "arr = np.arange(16).reshape((2, 2, 4))"
   ]
  },
  {
   "cell_type": "code",
   "execution_count": 53,
   "metadata": {},
   "outputs": [
    {
     "data": {
      "text/plain": [
       "array([[[ 0,  1,  2,  3],\n",
       "        [ 4,  5,  6,  7]],\n",
       "\n",
       "       [[ 8,  9, 10, 11],\n",
       "        [12, 13, 14, 15]]])"
      ]
     },
     "execution_count": 53,
     "metadata": {},
     "output_type": "execute_result"
    }
   ],
   "source": [
    "arr"
   ]
  },
  {
   "cell_type": "code",
   "execution_count": 55,
   "metadata": {},
   "outputs": [],
   "source": [
    "ar1 = arr.transpose((1, 0, 2))"
   ]
  },
  {
   "cell_type": "code",
   "execution_count": 56,
   "metadata": {},
   "outputs": [],
   "source": [
    "ar1[0] = 3"
   ]
  },
  {
   "cell_type": "code",
   "execution_count": 57,
   "metadata": {},
   "outputs": [
    {
     "data": {
      "text/plain": [
       "array([[[ 3,  3,  3,  3],\n",
       "        [ 4,  5,  6,  7]],\n",
       "\n",
       "       [[ 3,  3,  3,  3],\n",
       "        [12, 13, 14, 15]]])"
      ]
     },
     "execution_count": 57,
     "metadata": {},
     "output_type": "execute_result"
    }
   ],
   "source": [
    "arr"
   ]
  },
  {
   "cell_type": "code",
   "execution_count": 58,
   "metadata": {},
   "outputs": [
    {
     "data": {
      "text/plain": [
       "array([[[ 3,  4],\n",
       "        [ 3,  5],\n",
       "        [ 3,  6],\n",
       "        [ 3,  7]],\n",
       "\n",
       "       [[ 3, 12],\n",
       "        [ 3, 13],\n",
       "        [ 3, 14],\n",
       "        [ 3, 15]]])"
      ]
     },
     "execution_count": 58,
     "metadata": {},
     "output_type": "execute_result"
    }
   ],
   "source": [
    "arr.swapaxes(1, 2) "
   ]
  },
  {
   "cell_type": "code",
   "execution_count": 60,
   "metadata": {},
   "outputs": [
    {
     "data": {
      "text/plain": [
       "array([0, 1, 2, 3, 4, 5, 6, 7, 8, 9])"
      ]
     },
     "execution_count": 60,
     "metadata": {},
     "output_type": "execute_result"
    }
   ],
   "source": [
    "arr = np.arange(10)\n",
    "arr"
   ]
  },
  {
   "cell_type": "code",
   "execution_count": 61,
   "metadata": {},
   "outputs": [
    {
     "data": {
      "text/plain": [
       "array([0.        , 1.        , 1.41421356, 1.73205081, 2.        ,\n",
       "       2.23606798, 2.44948974, 2.64575131, 2.82842712, 3.        ])"
      ]
     },
     "execution_count": 61,
     "metadata": {},
     "output_type": "execute_result"
    }
   ],
   "source": [
    "np.sqrt(arr)"
   ]
  },
  {
   "cell_type": "code",
   "execution_count": 62,
   "metadata": {},
   "outputs": [],
   "source": [
    "x = np.random.randn(8)\n",
    "y = np.random.randn(8)"
   ]
  },
  {
   "cell_type": "code",
   "execution_count": 63,
   "metadata": {},
   "outputs": [
    {
     "data": {
      "text/plain": [
       "array([1.82193981, 0.6099738 , 1.13036223, 1.09076184, 1.3942625 ,\n",
       "       0.36126755, 1.00333903, 0.79511278])"
      ]
     },
     "execution_count": 63,
     "metadata": {},
     "output_type": "execute_result"
    }
   ],
   "source": [
    "np.maximum(x, y)"
   ]
  },
  {
   "cell_type": "code",
   "execution_count": 64,
   "metadata": {},
   "outputs": [
    {
     "data": {
      "text/plain": [
       "array([-6.5020287 ,  1.09210619, -2.00050205,  7.33104425, -1.66357827,\n",
       "       -1.74680185, -3.03063383])"
      ]
     },
     "execution_count": 64,
     "metadata": {},
     "output_type": "execute_result"
    }
   ],
   "source": [
    "arr = np.random.randn(7) * 5\n",
    "arr"
   ]
  },
  {
   "cell_type": "code",
   "execution_count": 66,
   "metadata": {},
   "outputs": [
    {
     "data": {
      "text/plain": [
       "array([-0.74438534,  0.12400055,  0.54355642,  0.9161318 ,  0.19341215,\n",
       "        0.5925348 , -0.38896454])"
      ]
     },
     "execution_count": 66,
     "metadata": {},
     "output_type": "execute_result"
    }
   ],
   "source": [
    "remainder, whole_part = np.modf(arr)\n",
    "remainder"
   ]
  },
  {
   "cell_type": "code",
   "execution_count": 67,
   "metadata": {},
   "outputs": [
    {
     "data": {
      "text/plain": [
       "array([-0.,  0.,  6.,  5.,  7.,  5., -0.])"
      ]
     },
     "execution_count": 67,
     "metadata": {},
     "output_type": "execute_result"
    }
   ],
   "source": [
    "whole_part"
   ]
  },
  {
   "cell_type": "code",
   "execution_count": 68,
   "metadata": {},
   "outputs": [
    {
     "name": "stderr",
     "output_type": "stream",
     "text": [
      "C:\\Users\\Ubicomp_Lab\\anaconda3\\lib\\site-packages\\ipykernel_launcher.py:1: RuntimeWarning: invalid value encountered in sqrt\n",
      "  \"\"\"Entry point for launching an IPython kernel.\n",
      "C:\\Users\\Ubicomp_Lab\\anaconda3\\lib\\site-packages\\ipykernel_launcher.py:2: RuntimeWarning: invalid value encountered in sqrt\n",
      "  \n"
     ]
    },
    {
     "data": {
      "text/plain": [
       "array([       nan, 0.35213712, 2.55803761, 2.43230997, 2.68205372,\n",
       "       2.36485408,        nan])"
      ]
     },
     "execution_count": 68,
     "metadata": {},
     "output_type": "execute_result"
    }
   ],
   "source": [
    "np.sqrt(arr)\n",
    "np.sqrt(arr, arr)\n",
    "arr"
   ]
  },
  {
   "cell_type": "code",
   "execution_count": 69,
   "metadata": {},
   "outputs": [
    {
     "data": {
      "text/plain": [
       "array([[-5.  , -4.99, -4.98, ...,  4.97,  4.98,  4.99],\n",
       "       [-5.  , -4.99, -4.98, ...,  4.97,  4.98,  4.99],\n",
       "       [-5.  , -4.99, -4.98, ...,  4.97,  4.98,  4.99],\n",
       "       ...,\n",
       "       [-5.  , -4.99, -4.98, ...,  4.97,  4.98,  4.99],\n",
       "       [-5.  , -4.99, -4.98, ...,  4.97,  4.98,  4.99],\n",
       "       [-5.  , -4.99, -4.98, ...,  4.97,  4.98,  4.99]])"
      ]
     },
     "execution_count": 69,
     "metadata": {},
     "output_type": "execute_result"
    }
   ],
   "source": [
    "points = np.arange(-5, 5, 0.01) # 1000 equally spaced points\n",
    "xs, ys = np.meshgrid(points,points)\n",
    "xs"
   ]
  },
  {
   "cell_type": "code",
   "execution_count": 70,
   "metadata": {},
   "outputs": [
    {
     "data": {
      "text/plain": [
       "array([[-5.  , -5.  , -5.  , ..., -5.  , -5.  , -5.  ],\n",
       "       [-4.99, -4.99, -4.99, ..., -4.99, -4.99, -4.99],\n",
       "       [-4.98, -4.98, -4.98, ..., -4.98, -4.98, -4.98],\n",
       "       ...,\n",
       "       [ 4.97,  4.97,  4.97, ...,  4.97,  4.97,  4.97],\n",
       "       [ 4.98,  4.98,  4.98, ...,  4.98,  4.98,  4.98],\n",
       "       [ 4.99,  4.99,  4.99, ...,  4.99,  4.99,  4.99]])"
      ]
     },
     "execution_count": 70,
     "metadata": {},
     "output_type": "execute_result"
    }
   ],
   "source": [
    "ys"
   ]
  },
  {
   "cell_type": "code",
   "execution_count": 71,
   "metadata": {},
   "outputs": [
    {
     "data": {
      "text/plain": [
       "array([[7.07106781, 7.06400028, 7.05693985, ..., 7.04988652, 7.05693985,\n",
       "        7.06400028],\n",
       "       [7.06400028, 7.05692568, 7.04985815, ..., 7.04279774, 7.04985815,\n",
       "        7.05692568],\n",
       "       [7.05693985, 7.04985815, 7.04278354, ..., 7.03571603, 7.04278354,\n",
       "        7.04985815],\n",
       "       ...,\n",
       "       [7.04988652, 7.04279774, 7.03571603, ..., 7.0286414 , 7.03571603,\n",
       "        7.04279774],\n",
       "       [7.05693985, 7.04985815, 7.04278354, ..., 7.03571603, 7.04278354,\n",
       "        7.04985815],\n",
       "       [7.06400028, 7.05692568, 7.04985815, ..., 7.04279774, 7.04985815,\n",
       "        7.05692568]])"
      ]
     },
     "execution_count": 71,
     "metadata": {},
     "output_type": "execute_result"
    }
   ],
   "source": [
    "z = np.sqrt(xs**2 + ys**2)\n",
    "z"
   ]
  },
  {
   "cell_type": "code",
   "execution_count": 72,
   "metadata": {},
   "outputs": [],
   "source": [
    "xarr = np.array([1.1, 1.2, 1.3, 1.4, 1.5])\n",
    "yarr = np.array([2.1, 2.2, 2.3, 2.4, 2.5])\n",
    "cond = np.array([True, False, True, True, False])"
   ]
  },
  {
   "cell_type": "code",
   "execution_count": 73,
   "metadata": {},
   "outputs": [
    {
     "data": {
      "text/plain": [
       "[1.1, 2.2, 1.3, 1.4, 2.5]"
      ]
     },
     "execution_count": 73,
     "metadata": {},
     "output_type": "execute_result"
    }
   ],
   "source": [
    "result = [(x if c else y) for x,y,c in zip(xarr, yarr,cond)]\n",
    "result"
   ]
  },
  {
   "cell_type": "code",
   "execution_count": 74,
   "metadata": {},
   "outputs": [
    {
     "data": {
      "text/plain": [
       "array([1.1, 2.2, 1.3, 1.4, 2.5])"
      ]
     },
     "execution_count": 74,
     "metadata": {},
     "output_type": "execute_result"
    }
   ],
   "source": [
    "result = np.where(cond, xarr,yarr)\n",
    "result"
   ]
  },
  {
   "cell_type": "code",
   "execution_count": 75,
   "metadata": {},
   "outputs": [
    {
     "data": {
      "text/plain": [
       "array([[-0.04563866,  0.87031236,  0.93690956,  0.22976607],\n",
       "       [-0.71177771, -0.46046569, -0.7579177 , -0.12679455],\n",
       "       [ 0.29160279, -1.48340077, -1.5314457 ,  0.33090777],\n",
       "       [-0.43525274, -0.74411685,  0.16769336,  0.81288366]])"
      ]
     },
     "execution_count": 75,
     "metadata": {},
     "output_type": "execute_result"
    }
   ],
   "source": [
    "arr = np.random.randn(4, 4)\n",
    "arr"
   ]
  },
  {
   "cell_type": "code",
   "execution_count": 77,
   "metadata": {},
   "outputs": [
    {
     "data": {
      "text/plain": [
       "array([[-2,  2,  2,  2],\n",
       "       [-2, -2, -2, -2],\n",
       "       [ 2, -2, -2,  2],\n",
       "       [-2, -2,  2,  2]])"
      ]
     },
     "execution_count": 77,
     "metadata": {},
     "output_type": "execute_result"
    }
   ],
   "source": [
    "np.where(arr>0 , 2,-2)"
   ]
  },
  {
   "cell_type": "code",
   "execution_count": 78,
   "metadata": {},
   "outputs": [
    {
     "data": {
      "text/plain": [
       "array([[-0.04563866,  2.        ,  2.        ,  2.        ],\n",
       "       [-0.71177771, -0.46046569, -0.7579177 , -0.12679455],\n",
       "       [ 2.        , -1.48340077, -1.5314457 ,  2.        ],\n",
       "       [-0.43525274, -0.74411685,  2.        ,  2.        ]])"
      ]
     },
     "execution_count": 78,
     "metadata": {},
     "output_type": "execute_result"
    }
   ],
   "source": [
    "np.where(arr > 0, 2, arr)"
   ]
  },
  {
   "cell_type": "code",
   "execution_count": 79,
   "metadata": {},
   "outputs": [
    {
     "data": {
      "text/plain": [
       "array([[-2.06778533,  0.85217939, -0.34505151, -1.78938891],\n",
       "       [-1.06320794, -0.85710958, -1.1637328 , -0.94386382],\n",
       "       [ 1.29002115,  0.03259072,  0.17613345,  1.57889557],\n",
       "       [ 0.12109765,  1.04554821, -0.3244147 ,  2.06921068],\n",
       "       [ 0.01728934,  0.52778753,  0.06527202, -1.37163698]])"
      ]
     },
     "execution_count": 79,
     "metadata": {},
     "output_type": "execute_result"
    }
   ],
   "source": [
    "arr = np.random.randn(5, 4)\n",
    "arr"
   ]
  },
  {
   "cell_type": "code",
   "execution_count": 80,
   "metadata": {},
   "outputs": [
    {
     "data": {
      "text/plain": [
       "-0.10750829261618007"
      ]
     },
     "execution_count": 80,
     "metadata": {},
     "output_type": "execute_result"
    }
   ],
   "source": [
    "arr.mean()"
   ]
  },
  {
   "cell_type": "code",
   "execution_count": 81,
   "metadata": {},
   "outputs": [
    {
     "data": {
      "text/plain": [
       "-0.10750829261618007"
      ]
     },
     "execution_count": 81,
     "metadata": {},
     "output_type": "execute_result"
    }
   ],
   "source": [
    "np.mean(arr)"
   ]
  },
  {
   "cell_type": "code",
   "execution_count": 82,
   "metadata": {},
   "outputs": [
    {
     "data": {
      "text/plain": [
       "-2.1501658523236014"
      ]
     },
     "execution_count": 82,
     "metadata": {},
     "output_type": "execute_result"
    }
   ],
   "source": [
    "arr.sum()"
   ]
  },
  {
   "cell_type": "code",
   "execution_count": 83,
   "metadata": {},
   "outputs": [
    {
     "data": {
      "text/plain": [
       "array([-0.83751159, -1.00697853,  0.76941022,  0.72786046, -0.19032202])"
      ]
     },
     "execution_count": 83,
     "metadata": {},
     "output_type": "execute_result"
    }
   ],
   "source": [
    "arr.mean(axis=1)"
   ]
  },
  {
   "cell_type": "code",
   "execution_count": 84,
   "metadata": {},
   "outputs": [
    {
     "data": {
      "text/plain": [
       "array([-1.70258512,  1.60099626, -1.59179353, -0.45678346])"
      ]
     },
     "execution_count": 84,
     "metadata": {},
     "output_type": "execute_result"
    }
   ],
   "source": [
    "arr.sum(axis=0)"
   ]
  },
  {
   "cell_type": "code",
   "execution_count": 85,
   "metadata": {},
   "outputs": [],
   "source": [
    "arr = np.array([0, 1, 2, 3, 4, 5, 6, 7])"
   ]
  },
  {
   "cell_type": "code",
   "execution_count": 86,
   "metadata": {},
   "outputs": [
    {
     "data": {
      "text/plain": [
       "array([ 0,  1,  3,  6, 10, 15, 21, 28], dtype=int32)"
      ]
     },
     "execution_count": 86,
     "metadata": {},
     "output_type": "execute_result"
    }
   ],
   "source": [
    "arr.cumsum()"
   ]
  },
  {
   "cell_type": "code",
   "execution_count": 87,
   "metadata": {},
   "outputs": [],
   "source": [
    "arr = np.array([[0, 1, 2], [3, 4, 5], [6, 7, 8]])"
   ]
  },
  {
   "cell_type": "code",
   "execution_count": 88,
   "metadata": {},
   "outputs": [
    {
     "data": {
      "text/plain": [
       "array([[ 0,  1,  2],\n",
       "       [ 3,  5,  7],\n",
       "       [ 9, 12, 15]], dtype=int32)"
      ]
     },
     "execution_count": 88,
     "metadata": {},
     "output_type": "execute_result"
    }
   ],
   "source": [
    "arr.cumsum(axis=0)"
   ]
  },
  {
   "cell_type": "code",
   "execution_count": 89,
   "metadata": {},
   "outputs": [
    {
     "data": {
      "text/plain": [
       "array([[  0,   0,   0],\n",
       "       [  3,  12,  60],\n",
       "       [  6,  42, 336]], dtype=int32)"
      ]
     },
     "execution_count": 89,
     "metadata": {},
     "output_type": "execute_result"
    }
   ],
   "source": [
    "arr.cumprod(axis=1)"
   ]
  },
  {
   "cell_type": "code",
   "execution_count": 90,
   "metadata": {},
   "outputs": [
    {
     "data": {
      "text/plain": [
       "53"
      ]
     },
     "execution_count": 90,
     "metadata": {},
     "output_type": "execute_result"
    }
   ],
   "source": [
    "arr = np.random.randn(100)\n",
    "(arr>0).sum()"
   ]
  },
  {
   "cell_type": "code",
   "execution_count": 91,
   "metadata": {},
   "outputs": [],
   "source": [
    "bools = np.array([False, False, True, False])"
   ]
  },
  {
   "cell_type": "code",
   "execution_count": 92,
   "metadata": {},
   "outputs": [
    {
     "data": {
      "text/plain": [
       "True"
      ]
     },
     "execution_count": 92,
     "metadata": {},
     "output_type": "execute_result"
    }
   ],
   "source": [
    "bools.any()"
   ]
  },
  {
   "cell_type": "code",
   "execution_count": 93,
   "metadata": {},
   "outputs": [
    {
     "data": {
      "text/plain": [
       "False"
      ]
     },
     "execution_count": 93,
     "metadata": {},
     "output_type": "execute_result"
    }
   ],
   "source": [
    "bools.all()"
   ]
  },
  {
   "cell_type": "code",
   "execution_count": 94,
   "metadata": {},
   "outputs": [],
   "source": [
    "arr = np.random.randn(6)\n",
    "arr.sort()"
   ]
  },
  {
   "cell_type": "code",
   "execution_count": 95,
   "metadata": {},
   "outputs": [],
   "source": [
    "arr = np.random.randn(5, 3)"
   ]
  },
  {
   "cell_type": "code",
   "execution_count": 96,
   "metadata": {},
   "outputs": [],
   "source": [
    "arr.sort(1)"
   ]
  },
  {
   "cell_type": "code",
   "execution_count": 97,
   "metadata": {},
   "outputs": [],
   "source": [
    "large_arr = np.random.randn(1000)\n",
    "large_arr.sort()"
   ]
  },
  {
   "cell_type": "code",
   "execution_count": 98,
   "metadata": {},
   "outputs": [
    {
     "data": {
      "text/plain": [
       "-1.6944805935228795"
      ]
     },
     "execution_count": 98,
     "metadata": {},
     "output_type": "execute_result"
    }
   ],
   "source": [
    "large_arr[int(0.05*len(large_arr))]"
   ]
  },
  {
   "cell_type": "code",
   "execution_count": 99,
   "metadata": {},
   "outputs": [],
   "source": [
    "names = np.array(['Bob', 'Joe', 'Will', 'Bob', 'Will', 'Joe', 'Joe'])"
   ]
  },
  {
   "cell_type": "code",
   "execution_count": 100,
   "metadata": {},
   "outputs": [
    {
     "data": {
      "text/plain": [
       "array(['Bob', 'Joe', 'Will'], dtype='<U4')"
      ]
     },
     "execution_count": 100,
     "metadata": {},
     "output_type": "execute_result"
    }
   ],
   "source": [
    "np.unique(names)"
   ]
  },
  {
   "cell_type": "code",
   "execution_count": 101,
   "metadata": {},
   "outputs": [
    {
     "data": {
      "text/plain": [
       "array([1, 2, 3, 4])"
      ]
     },
     "execution_count": 101,
     "metadata": {},
     "output_type": "execute_result"
    }
   ],
   "source": [
    "ints = np.array([3, 3, 3, 2, 2, 1, 1, 4, 4])\n",
    "np.unique(ints)"
   ]
  },
  {
   "cell_type": "code",
   "execution_count": 102,
   "metadata": {},
   "outputs": [
    {
     "data": {
      "text/plain": [
       "['Bob', 'Joe', 'Will']"
      ]
     },
     "execution_count": 102,
     "metadata": {},
     "output_type": "execute_result"
    }
   ],
   "source": [
    "sorted(set(names))"
   ]
  },
  {
   "cell_type": "code",
   "execution_count": 103,
   "metadata": {},
   "outputs": [
    {
     "data": {
      "text/plain": [
       "array([ True, False, False,  True,  True, False,  True])"
      ]
     },
     "execution_count": 103,
     "metadata": {},
     "output_type": "execute_result"
    }
   ],
   "source": [
    "values = np.array([6, 0, 0, 3, 2, 5, 6])\n",
    "np.in1d(values, [2, 3, 6])"
   ]
  },
  {
   "cell_type": "code",
   "execution_count": 104,
   "metadata": {},
   "outputs": [],
   "source": [
    "x = np.array([[1., 2., 3.], [4., 5., 6.]])\n",
    "y = np.array([[6., 23.], [-1, 7], [8, 9]])"
   ]
  },
  {
   "cell_type": "code",
   "execution_count": 105,
   "metadata": {},
   "outputs": [
    {
     "data": {
      "text/plain": [
       "array([[ 28.,  64.],\n",
       "       [ 67., 181.]])"
      ]
     },
     "execution_count": 105,
     "metadata": {},
     "output_type": "execute_result"
    }
   ],
   "source": [
    "x.dot(y) "
   ]
  },
  {
   "cell_type": "code",
   "execution_count": 107,
   "metadata": {},
   "outputs": [
    {
     "data": {
      "text/plain": [
       "array([[ 28.,  64.],\n",
       "       [ 67., 181.]])"
      ]
     },
     "execution_count": 107,
     "metadata": {},
     "output_type": "execute_result"
    }
   ],
   "source": [
    "np.dot(x,y) "
   ]
  },
  {
   "cell_type": "code",
   "execution_count": 108,
   "metadata": {},
   "outputs": [
    {
     "data": {
      "text/plain": [
       "array([ 6., 15.])"
      ]
     },
     "execution_count": 108,
     "metadata": {},
     "output_type": "execute_result"
    }
   ],
   "source": [
    "np.dot(x, np.ones(3)) "
   ]
  },
  {
   "cell_type": "code",
   "execution_count": 109,
   "metadata": {},
   "outputs": [
    {
     "data": {
      "text/plain": [
       "array([[ 6.],\n",
       "       [15.]])"
      ]
     },
     "execution_count": 109,
     "metadata": {},
     "output_type": "execute_result"
    }
   ],
   "source": [
    "np.dot(x, [[1], [1], [1]])"
   ]
  },
  {
   "cell_type": "code",
   "execution_count": 110,
   "metadata": {},
   "outputs": [
    {
     "data": {
      "text/plain": [
       "array([ 6., 15.])"
      ]
     },
     "execution_count": 110,
     "metadata": {},
     "output_type": "execute_result"
    }
   ],
   "source": [
    "x @ np.ones(3)"
   ]
  },
  {
   "cell_type": "code",
   "execution_count": 111,
   "metadata": {},
   "outputs": [],
   "source": [
    "from numpy.linalg import inv, qr\n",
    "X = np.random.randn(5, 5)\n",
    "mat = X.T.dot(X)"
   ]
  },
  {
   "cell_type": "code",
   "execution_count": 112,
   "metadata": {},
   "outputs": [
    {
     "data": {
      "text/plain": [
       "array([[ 4.24364686,  0.44501338,  0.87178516, -3.26858205,  0.72442429],\n",
       "       [ 0.44501338,  3.42467864,  0.27218009, -2.72719463,  0.19112388],\n",
       "       [ 0.87178516,  0.27218009,  1.69406413, -1.10043316,  0.26506642],\n",
       "       [-3.26858205, -2.72719463, -1.10043316,  4.61082069,  0.08397606],\n",
       "       [ 0.72442429,  0.19112388,  0.26506642,  0.08397606,  2.16969527]])"
      ]
     },
     "execution_count": 112,
     "metadata": {},
     "output_type": "execute_result"
    }
   ],
   "source": [
    "mat"
   ]
  },
  {
   "cell_type": "code",
   "execution_count": 113,
   "metadata": {},
   "outputs": [
    {
     "data": {
      "text/plain": [
       "array([[ 6.88226468,  6.52923611,  1.97840486,  9.27612686, -3.47373848],\n",
       "       [ 6.52923611,  6.79525784,  2.05383408,  9.19960896, -3.385555  ],\n",
       "       [ 1.97840486,  2.05383408,  1.33819305,  2.95703958, -1.1194069 ],\n",
       "       [ 9.27612686,  9.19960896,  2.95703958, 13.02669272, -4.77295544],\n",
       "       [-3.47373848, -3.385555  , -1.1194069 , -4.77295544,  2.24043081]])"
      ]
     },
     "execution_count": 113,
     "metadata": {},
     "output_type": "execute_result"
    }
   ],
   "source": [
    "inv(mat)"
   ]
  },
  {
   "cell_type": "code",
   "execution_count": 114,
   "metadata": {},
   "outputs": [
    {
     "data": {
      "text/plain": [
       "array([[ 1.00000000e+00, -1.97154056e-15,  3.06676669e-16,\n",
       "        -2.23794619e-16, -1.16519725e-15],\n",
       "       [ 2.36269397e-15,  1.00000000e+00,  4.33269770e-16,\n",
       "        -1.57318993e-15, -2.38942382e-16],\n",
       "       [-8.84228031e-16,  4.16691776e-16,  1.00000000e+00,\n",
       "        -9.93909149e-16, -3.22118023e-17],\n",
       "       [ 7.33542994e-15, -3.49827824e-15, -9.46389476e-17,\n",
       "         1.00000000e+00,  2.72278602e-16],\n",
       "       [-8.37360610e-16,  9.30829106e-16,  2.43207527e-17,\n",
       "         2.57325655e-15,  1.00000000e+00]])"
      ]
     },
     "execution_count": 114,
     "metadata": {},
     "output_type": "execute_result"
    }
   ],
   "source": [
    "mat.dot(inv(mat)) "
   ]
  },
  {
   "cell_type": "code",
   "execution_count": 116,
   "metadata": {},
   "outputs": [
    {
     "data": {
      "text/plain": [
       "array([[-5.49317796, -2.31237807, -1.65412604,  5.65313905, -0.85335517],\n",
       "       [ 0.        , -3.75866589, -0.26817151,  2.81488303,  0.19649421],\n",
       "       [ 0.        ,  0.        , -1.47550299,  0.27228583, -0.17380001],\n",
       "       [ 0.        ,  0.        ,  0.        , -0.8020004 , -2.12841712],\n",
       "       [ 0.        ,  0.        ,  0.        ,  0.        ,  0.13790474]])"
      ]
     },
     "execution_count": 116,
     "metadata": {},
     "output_type": "execute_result"
    }
   ],
   "source": [
    "q, r = qr(mat)\n",
    "r"
   ]
  },
  {
   "cell_type": "code",
   "execution_count": 117,
   "metadata": {},
   "outputs": [
    {
     "data": {
      "text/plain": [
       "array([[-1.01173216,  0.45065437,  0.64278104, -0.22637949],\n",
       "       [-0.68601254, -1.6749459 ,  0.72972175,  0.06834179],\n",
       "       [-1.82446508, -1.1308907 ,  0.66171529, -0.16899022],\n",
       "       [ 0.20089877, -0.9946348 , -0.12461967, -0.46858895]])"
      ]
     },
     "execution_count": 117,
     "metadata": {},
     "output_type": "execute_result"
    }
   ],
   "source": [
    "samples = np.random.normal(size=(4, 4))\n",
    "samples"
   ]
  },
  {
   "cell_type": "code",
   "execution_count": 118,
   "metadata": {},
   "outputs": [],
   "source": [
    "from random import normalvariate\n",
    "N = 1000000"
   ]
  },
  {
   "cell_type": "code",
   "execution_count": 122,
   "metadata": {},
   "outputs": [
    {
     "name": "stdout",
     "output_type": "stream",
     "text": [
      "813 ms ± 20.4 ms per loop (mean ± std. dev. of 7 runs, 1 loop each)\n"
     ]
    }
   ],
   "source": [
    "%timeit samples = [normalvariate(0, 1) for _ in range(N)]"
   ]
  },
  {
   "cell_type": "code",
   "execution_count": 121,
   "metadata": {},
   "outputs": [
    {
     "name": "stdout",
     "output_type": "stream",
     "text": [
      "28.1 ms ± 579 µs per loop (mean ± std. dev. of 7 runs, 10 loops each)\n"
     ]
    }
   ],
   "source": [
    "%timeit np.random.normal(size=N)"
   ]
  },
  {
   "cell_type": "code",
   "execution_count": 123,
   "metadata": {},
   "outputs": [
    {
     "data": {
      "text/plain": [
       "[0.5390084583344272,\n",
       " 0.6025564792486616,\n",
       " -0.04542981561916759,\n",
       " 0.0315966750319683,\n",
       " -2.7761747357526723,\n",
       " 0.6862470854898112,\n",
       " -0.6985300414247746,\n",
       " -1.793741944733337,\n",
       " 0.1425493213523013,\n",
       " 1.3722798156382843,\n",
       " -1.7856310327119842,\n",
       " -0.8220729410391111,\n",
       " 0.47063963888003796,\n",
       " -0.3080126245450172,\n",
       " 1.1728401448700114,\n",
       " 1.4498447824578724,\n",
       " -1.2334136373887665,\n",
       " -1.6019437528988985,\n",
       " 0.44468145674681425,\n",
       " 0.8542403180880019,\n",
       " 0.22538590910943032,\n",
       " 0.2080878135786697,\n",
       " 0.7720962638680052,\n",
       " 0.6226327563416401,\n",
       " -0.3648800579164605,\n",
       " 1.3671331726803206,\n",
       " -0.6375532639453947,\n",
       " 0.6073888045664174,\n",
       " 0.2580250594084715,\n",
       " -0.1159196177807212,\n",
       " -1.4180143185784198,\n",
       " 0.5840601062858531,\n",
       " -1.2264433768353076,\n",
       " 0.3959669949452337,\n",
       " -0.8861429900421666,\n",
       " -1.7864428878934524,\n",
       " 0.06771607099237614,\n",
       " 1.057512793908847,\n",
       " -0.6177152847543642,\n",
       " 1.5077106663500714,\n",
       " -0.003314312527526324,\n",
       " 0.22375533282540172,\n",
       " 0.13937097551086422,\n",
       " -1.7115504485703168,\n",
       " -0.41100832994461944,\n",
       " 0.28545547289292406,\n",
       " 1.8905356227781192,\n",
       " -0.36080826551022505,\n",
       " -0.8615263893556929,\n",
       " -1.0033382819974608,\n",
       " -0.10430110163297154,\n",
       " 1.5869776229634034,\n",
       " 0.8733317364247883,\n",
       " -0.6087217303222677,\n",
       " -0.3331961415469058,\n",
       " -0.645451093111949,\n",
       " -0.42942422896126353,\n",
       " 0.7988226994318853,\n",
       " 0.44970072339972406,\n",
       " 0.2862903682638731,\n",
       " -1.0674093983046546,\n",
       " 1.5189818834110462,\n",
       " -0.5494962411251063,\n",
       " -0.8655187177484283,\n",
       " 0.3361696933381124,\n",
       " 0.1552063292152788,\n",
       " 0.021140120054764316,\n",
       " 0.8465667587765349,\n",
       " -0.9888980380318855,\n",
       " -0.5425447521831132,\n",
       " -0.6069701260948582,\n",
       " 0.9615602067103614,\n",
       " -1.0381187796776965,\n",
       " 0.47200417940197514,\n",
       " -0.8346335487561729,\n",
       " -0.0009119305625961225,\n",
       " 0.8589184505818757,\n",
       " -0.6167922885968393,\n",
       " -0.9391746213942042,\n",
       " -0.9996840430487026,\n",
       " 0.7037079391479644,\n",
       " 1.7576378660083334,\n",
       " 0.4684065904540656,\n",
       " -0.18597140957725578,\n",
       " -0.13922659953747715,\n",
       " 0.06197346351645338,\n",
       " 0.09570685314167424,\n",
       " 0.37275123181499303,\n",
       " 0.18033699760937225,\n",
       " -0.10225321422544062,\n",
       " -1.2656827480654056,\n",
       " 0.264734840384714,\n",
       " -0.19343287128310382,\n",
       " 0.5695853098876511,\n",
       " 0.3835528867192981,\n",
       " -0.09416605968059928,\n",
       " -0.11784754657768386,\n",
       " -0.6545448672054753,\n",
       " -1.3008533440635264,\n",
       " 0.9311244244235687,\n",
       " -0.10816346310231727,\n",
       " -1.2578619892174379,\n",
       " 0.6766820122908591,\n",
       " 1.5571774919015027,\n",
       " 1.184023527596753,\n",
       " -0.5577033334990068,\n",
       " -0.621590727949291,\n",
       " -0.7925277972365522,\n",
       " -1.1052729497819826,\n",
       " -0.17855542273386582,\n",
       " -0.46765916903585003,\n",
       " -0.5321554328506816,\n",
       " -1.127277868528324,\n",
       " 1.4200570312027605,\n",
       " 2.0260173912765094,\n",
       " 0.2218422378644096,\n",
       " 0.24800722448635748,\n",
       " -1.3461380015335465,\n",
       " -0.3039590684062388,\n",
       " -0.7895215492401612,\n",
       " 1.9051467674807934,\n",
       " -0.23773394003548956,\n",
       " -0.072244856250676,\n",
       " -1.9674764226643593,\n",
       " -0.3594933172041345,\n",
       " 1.5439507956222742,\n",
       " 0.04010975862861905,\n",
       " 0.9426843936681725,\n",
       " 0.20145001160960968,\n",
       " 0.987425070261579,\n",
       " -1.0908923722404613,\n",
       " -1.188603267634385,\n",
       " -0.9578183849793395,\n",
       " 0.7783362215575341,\n",
       " -1.9169104281779106,\n",
       " 1.5779266937590186,\n",
       " 0.9345198636636899,\n",
       " -0.254706000251494,\n",
       " -1.2326771206417262,\n",
       " -2.373547681382206,\n",
       " -0.9499768700877339,\n",
       " -0.2218148072078223,\n",
       " 0.031124543147440533,\n",
       " 0.8674882016424776,\n",
       " 0.7235713806677596,\n",
       " -0.6300314336882781,\n",
       " 0.001045744351543737,\n",
       " 0.5652252167363094,\n",
       " -0.6557948085149556,\n",
       " -0.6505802058300125,\n",
       " 0.38401937299388544,\n",
       " -0.527315289254156,\n",
       " -0.6344485977042872,\n",
       " -0.2772471131985193,\n",
       " -0.49931944410784557,\n",
       " -0.1440834674154626,\n",
       " 1.0171861646344105,\n",
       " -0.6813581918525732,\n",
       " 0.2206491178264463,\n",
       " -0.04620354041377157,\n",
       " 1.5310037429302195,\n",
       " 0.7636303712942303,\n",
       " -0.0816345688562473,\n",
       " -0.953001611507924,\n",
       " -0.8120121949195444,\n",
       " 0.1284482533067909,\n",
       " 0.8550459296630086,\n",
       " 1.0076317548747444,\n",
       " 0.37110411513913927,\n",
       " 1.2985064779513629,\n",
       " 0.16546951157556195,\n",
       " -0.35581111166853385,\n",
       " -0.12163493526303103,\n",
       " -0.21106983813818553,\n",
       " -0.40805503284485917,\n",
       " -1.8041988461091703,\n",
       " -1.3108659588633105,\n",
       " 1.2884899321093808,\n",
       " -1.5100453575266335,\n",
       " 1.1096217607131165,\n",
       " -0.24477525951831133,\n",
       " -1.1322832227769082,\n",
       " -0.15373998430420507,\n",
       " -1.4625255230491967,\n",
       " 2.5710698308336446,\n",
       " -1.4989825820651443,\n",
       " 1.1181975329508782,\n",
       " -1.0772409559501315,\n",
       " 0.7646400676110996,\n",
       " 2.622502781107683,\n",
       " 0.014130838559008091,\n",
       " 0.6985840953429934,\n",
       " 0.40546637500901905,\n",
       " -0.8380587844137257,\n",
       " 1.392189779423711,\n",
       " -0.3892621535459706,\n",
       " -0.7546896905071272,\n",
       " 0.040132133697820545,\n",
       " -0.7864938424335499,\n",
       " 0.16468490406518935,\n",
       " -0.6487761502220332,\n",
       " 2.896360957558237,\n",
       " 1.8944308693496341,\n",
       " -1.6095407165608926,\n",
       " -1.3547946346280122,\n",
       " 0.22156130443396663,\n",
       " 0.8303742392533086,\n",
       " -2.800390102930877,\n",
       " -0.8411327022086402,\n",
       " 1.7648431968178804,\n",
       " 0.05056857403458623,\n",
       " -0.0800150798529356,\n",
       " -0.4820286787985317,\n",
       " -0.8866718969213528,\n",
       " -0.15421444488873903,\n",
       " -0.5414325483530111,\n",
       " 0.47088068263602234,\n",
       " -0.20245202126007944,\n",
       " -1.0733592013415645,\n",
       " 2.0847384114880163,\n",
       " 0.9670536738934833,\n",
       " -0.6132678639408513,\n",
       " -0.5974650492008565,\n",
       " 0.7487964279764554,\n",
       " 0.15023275276618708,\n",
       " 0.46420963055593056,\n",
       " 1.1098755543879228,\n",
       " -1.9756012696776297,\n",
       " -0.24061117349151134,\n",
       " -0.7689404650574234,\n",
       " -0.5324446535395377,\n",
       " 0.22835935186026665,\n",
       " -1.0748585217206716,\n",
       " -0.5461208620951223,\n",
       " 0.3625660627851223,\n",
       " -1.4122391056505645,\n",
       " 2.5360656241136965,\n",
       " 0.9800028364153857,\n",
       " 0.8273593777616931,\n",
       " 0.35168505920765536,\n",
       " 0.7531181172790035,\n",
       " -2.605684113365484,\n",
       " 0.0672927285890782,\n",
       " -2.249246413436549,\n",
       " 1.8162396081809629,\n",
       " 0.23952376159489336,\n",
       " 0.4991150191358786,\n",
       " 0.11009005460472558,\n",
       " 0.5608847845109374,\n",
       " 0.09623030815347294,\n",
       " -1.7568594730029474,\n",
       " -1.1311577327891282,\n",
       " 0.08223923030569444,\n",
       " -1.3503315385645334,\n",
       " -1.3126686363846911,\n",
       " -0.2553923993469487,\n",
       " -0.1727968771636597,\n",
       " -1.1172294159420388,\n",
       " 0.12062113209930712,\n",
       " -0.203312580223083,\n",
       " -2.0374230337377055,\n",
       " 0.33614323597176676,\n",
       " 1.219946797108474,\n",
       " 0.5057882259080348,\n",
       " -0.5537500628751489,\n",
       " -1.4218908014071676,\n",
       " 0.8207478041311245,\n",
       " 0.4291808101088873,\n",
       " 0.7128566094724317,\n",
       " 0.19667323058215694,\n",
       " -1.793717905060267,\n",
       " -0.11375591242208398,\n",
       " 0.5649870010505759,\n",
       " -1.4365955081801984,\n",
       " 1.1760212500650653,\n",
       " -0.15591619818149188,\n",
       " 0.26779668524808314,\n",
       " -0.09908733834461923,\n",
       " -0.24763584476014447,\n",
       " -0.9646155262148894,\n",
       " 0.32401692849796493,\n",
       " -0.7191440630184384,\n",
       " -1.7019770319414047,\n",
       " 1.6858597933358723,\n",
       " -0.2775907042227042,\n",
       " -1.1162804761456337,\n",
       " -0.95317865377607,\n",
       " -1.8761057211120502,\n",
       " 0.38886702272573903,\n",
       " 1.0660861573315645,\n",
       " 0.09630357891692057,\n",
       " 0.2763736116430895,\n",
       " -0.5244117880709274,\n",
       " -0.20172503827370744,\n",
       " -0.33103357837466824,\n",
       " 0.14563688996932156,\n",
       " -0.12877787680508626,\n",
       " 1.732014137392151,\n",
       " -0.6467620324708339,\n",
       " 0.5098046374172976,\n",
       " 0.2574679532863673,\n",
       " -0.2422577460911942,\n",
       " -0.2101286312796751,\n",
       " -1.4939613930271025,\n",
       " -0.18268007637454117,\n",
       " -1.3453932756503753,\n",
       " 0.9262758286977482,\n",
       " -0.16556296405022214,\n",
       " 0.4902783244630374,\n",
       " 0.035325243902759595,\n",
       " 0.8551356626905332,\n",
       " 0.3897215145389782,\n",
       " 0.29349246244877225,\n",
       " 1.2687187009848298,\n",
       " -0.4157354736018227,\n",
       " -0.6806261337794947,\n",
       " 0.15296239689940924,\n",
       " 0.6243769136754528,\n",
       " 0.6024433114864518,\n",
       " -0.8515791341855232,\n",
       " -0.15336573130304987,\n",
       " -0.40398130854249936,\n",
       " 0.025876073002906088,\n",
       " 0.0967058364891622,\n",
       " 0.3282113412127379,\n",
       " -0.23697104862449428,\n",
       " 0.3399829875692102,\n",
       " 0.32696634633660643,\n",
       " -1.3737043361875476,\n",
       " 0.5177943756872267,\n",
       " -1.3645718650805152,\n",
       " 0.8307709040987344,\n",
       " -0.8945324530327103,\n",
       " -1.3629472996029424,\n",
       " 0.4243197482146766,\n",
       " -0.23363919707742806,\n",
       " 0.17623210933368058,\n",
       " -0.9695849287379665,\n",
       " -0.026113729539678627,\n",
       " -1.709283944813081,\n",
       " 0.08681866266169022,\n",
       " 1.385469302831735,\n",
       " 0.8633323196696333,\n",
       " 0.11241648236885696,\n",
       " 1.289420156166253,\n",
       " -1.2396794489384646,\n",
       " 0.805200321171505,\n",
       " 0.6553899615060716,\n",
       " -0.1830930447264621,\n",
       " 0.3271379324508593,\n",
       " -0.6076744670254376,\n",
       " 0.6841474210507901,\n",
       " 0.4324577131852529,\n",
       " -1.490967130125444,\n",
       " -0.0467684702992734,\n",
       " -1.0348868276792287,\n",
       " 1.4479548796974573,\n",
       " -0.6282222485207023,\n",
       " 0.22043302485407607,\n",
       " 0.8154927963563626,\n",
       " 1.1277354215588344,\n",
       " -0.4619145447075692,\n",
       " 0.8842616591879212,\n",
       " -0.7198207546900833,\n",
       " -0.23741773416572737,\n",
       " -0.6196282477891735,\n",
       " -1.9208018714979482,\n",
       " -0.14224852646869054,\n",
       " 0.1432995880977242,\n",
       " 0.29368489197194847,\n",
       " 0.1140021152202704,\n",
       " 0.06318109914151122,\n",
       " 1.4968799884905373,\n",
       " 0.6080812815524076,\n",
       " 0.5004330465441654,\n",
       " 1.1569114478120397,\n",
       " 0.030139924475369246,\n",
       " 0.6884001784054904,\n",
       " 0.0551972686479328,\n",
       " -0.14334128974763008,\n",
       " 0.5465171060713716,\n",
       " 0.4479365388984146,\n",
       " 0.07155091663553804,\n",
       " -0.19637180888999967,\n",
       " -0.11283191506317951,\n",
       " 0.5143528976860764,\n",
       " 2.6499631230514504,\n",
       " -0.046386401372543976,\n",
       " 1.7554972752362827,\n",
       " -0.22123984026196886,\n",
       " 0.05184977336868907,\n",
       " 1.0758961509449227,\n",
       " -0.12103197036964855,\n",
       " 1.345544238554765,\n",
       " 0.848356338459492,\n",
       " 0.4642422385659977,\n",
       " 1.7866252646741025,\n",
       " -0.7144710097862815,\n",
       " -1.3372329956787996,\n",
       " 0.5673066330788102,\n",
       " 1.3152846998429952,\n",
       " 0.27315304581888067,\n",
       " 1.7843754852148084,\n",
       " -0.9689160602047394,\n",
       " 0.4848627338343364,\n",
       " 0.6223895127688991,\n",
       " -0.3694625785150995,\n",
       " -1.7354674629507199,\n",
       " -1.071460277261142,\n",
       " -0.6572020013612737,\n",
       " -0.25247802368326766,\n",
       " -0.42203153405955046,\n",
       " -1.0812526897995445,\n",
       " -0.5821068263043586,\n",
       " -1.690247268021351,\n",
       " 0.2364632858852725,\n",
       " -0.08636820234436085,\n",
       " 0.8524456470093155,\n",
       " 1.0762584885049309,\n",
       " -0.09667536062838661,\n",
       " -1.737041207544442,\n",
       " 1.5240681572469086,\n",
       " 1.1774215198232718,\n",
       " 1.2331838326976499,\n",
       " 0.7006288138600438,\n",
       " -2.348617412667687,\n",
       " -0.3441797549850817,\n",
       " -0.5770324260468379,\n",
       " 0.7020150606325023,\n",
       " 0.3175084460228948,\n",
       " 1.2172258063680983,\n",
       " -0.9059164919764268,\n",
       " -0.10832953777275293,\n",
       " -0.6795211637025528,\n",
       " 0.09422989424788014,\n",
       " -0.7040053692617881,\n",
       " -0.2226802443364853,\n",
       " 1.7303981563819926,\n",
       " -1.1935045035386085,\n",
       " -0.1237236832192489,\n",
       " -0.36446875258151445,\n",
       " -0.36488023234504835,\n",
       " -0.16221829845114474,\n",
       " 0.45203054092171474,\n",
       " -0.07548525276626185,\n",
       " -1.6754848207088684,\n",
       " -1.092825049494187,\n",
       " -1.1471867519144572,\n",
       " -0.8195705164992452,\n",
       " -0.8990094548752577,\n",
       " -0.507098147573972,\n",
       " 0.6895155483832711,\n",
       " 0.6315232253643677,\n",
       " 0.6945201525443276,\n",
       " -0.8496681948938728,\n",
       " -0.03144814165989388,\n",
       " -0.17091479381210956,\n",
       " 1.5206430856068291,\n",
       " 0.9879025683433883,\n",
       " 0.8418233679500506,\n",
       " 1.6858385256855355,\n",
       " -1.0625238899531257,\n",
       " -0.06005576341315812,\n",
       " 1.3709158095506406,\n",
       " 0.6594182279606566,\n",
       " -0.39029262655483987,\n",
       " -0.030848747086792496,\n",
       " 0.3216240892145615,\n",
       " 0.4416801316737686,\n",
       " 0.2467382863630693,\n",
       " -0.2626096558968938,\n",
       " -1.1552110280709935,\n",
       " 0.3378651665949015,\n",
       " 1.0695881057599361,\n",
       " 1.762713470688321,\n",
       " 1.2670018389446243,\n",
       " 0.2662354836527233,\n",
       " -0.8719423635383733,\n",
       " 0.06794462027726278,\n",
       " -0.1861648381472451,\n",
       " 0.020921298224063405,\n",
       " -1.4213225670711434,\n",
       " 0.8073477586085172,\n",
       " -0.09061847103028117,\n",
       " -0.8017847840568005,\n",
       " -0.47044461731901066,\n",
       " 0.04935779990171733,\n",
       " -0.45807310079154345,\n",
       " -1.160815585640068,\n",
       " 1.3118986171057077,\n",
       " 0.0074588188438250835,\n",
       " -0.41319001732830163,\n",
       " -0.13763447699182002,\n",
       " 0.6317387317932069,\n",
       " -0.8100064404143703,\n",
       " -0.8071797868407269,\n",
       " -0.29612861728709133,\n",
       " -0.2973243568528045,\n",
       " -1.8120100233566112,\n",
       " 0.42019513903563493,\n",
       " 0.6050120008481068,\n",
       " 0.469752114994214,\n",
       " 0.5213176398723853,\n",
       " -0.7806216625536894,\n",
       " -1.040746125157807,\n",
       " 0.1856444507511474,\n",
       " 1.009487812275548,\n",
       " -1.1014389891531455,\n",
       " -0.3013559243846522,\n",
       " -1.2929678695259221,\n",
       " -0.43393605184692235,\n",
       " 0.5526566154402148,\n",
       " -1.073980105544173,\n",
       " 0.3377607064896279,\n",
       " -0.20883367300620614,\n",
       " 0.673374269783566,\n",
       " -0.6584383201899922,\n",
       " -0.33091114835026286,\n",
       " 0.30841381952628233,\n",
       " -0.6426334076683348,\n",
       " -0.9037946326662053,\n",
       " -0.3213049438352065,\n",
       " 0.18270205636871104,\n",
       " 0.810610730605473,\n",
       " 1.6930393698747832,\n",
       " -0.12304698250680102,\n",
       " -0.7347869167040114,\n",
       " 1.0896113225737698,\n",
       " 0.7584896585223082,\n",
       " 0.058179930144459185,\n",
       " -1.1358087332673135,\n",
       " 0.6771546522586381,\n",
       " 0.5203824202356411,\n",
       " 0.6035730199869559,\n",
       " -0.13487245045115032,\n",
       " 0.9120223863636606,\n",
       " 1.5762510952225028,\n",
       " -0.9995396945275994,\n",
       " 0.532494943999779,\n",
       " 1.5405155568511795,\n",
       " -0.01231202900556895,\n",
       " -0.35031843351793795,\n",
       " -0.7718729429443232,\n",
       " 1.4997655215565138,\n",
       " -1.1528290227336262,\n",
       " 1.0055907117247775,\n",
       " 0.8174613059439769,\n",
       " 0.27355235918444604,\n",
       " 0.9115818462791526,\n",
       " 0.10166423411062324,\n",
       " -0.4899985605750642,\n",
       " 0.926965965414257,\n",
       " 1.6512491899997603,\n",
       " 1.1332930366308067,\n",
       " 0.8152233555092683,\n",
       " 1.8451625405113057,\n",
       " -1.1311713535961236,\n",
       " -1.9429828996247165,\n",
       " 0.45207263524997315,\n",
       " 0.9448452336929616,\n",
       " -0.41735181203555716,\n",
       " -0.8926233877644526,\n",
       " 0.6396770616298137,\n",
       " -0.08429926202329784,\n",
       " 0.1810290767327827,\n",
       " 0.6879012682028833,\n",
       " -0.021758147763814028,\n",
       " 1.3990755802300419,\n",
       " -2.200325980585532,\n",
       " -0.8140182096622101,\n",
       " -1.4356210495320598,\n",
       " 0.17689850678763572,\n",
       " 0.9640299483761052,\n",
       " 0.4990623502034107,\n",
       " 0.44821215978737344,\n",
       " -0.7642035380960067,\n",
       " 1.9284231441072701,\n",
       " 1.3572144512906243,\n",
       " -0.5976393754982414,\n",
       " 0.1268075237509317,\n",
       " -0.6869195373971937,\n",
       " 0.3451761894709649,\n",
       " 0.5757342661715574,\n",
       " -0.5748592813585776,\n",
       " 0.12334736745754984,\n",
       " 0.8026140643631939,\n",
       " -0.26037694689887003,\n",
       " -0.5818790195251272,\n",
       " -1.0478700668815832,\n",
       " 0.21728302975048222,\n",
       " 0.4349535250675217,\n",
       " -1.014133495678704,\n",
       " 0.04824250557986161,\n",
       " -0.8558158594383277,\n",
       " 0.47598978992393354,\n",
       " 0.9430983083205173,\n",
       " -0.8088993127864872,\n",
       " -1.205960139253809,\n",
       " 0.611777100745684,\n",
       " -0.0011283471201517603,\n",
       " 0.6403837226345899,\n",
       " 0.3228583899015468,\n",
       " -0.48894852970311536,\n",
       " -0.258056708442986,\n",
       " 0.9878385814270896,\n",
       " 1.2019014201195586,\n",
       " 0.6113292615661046,\n",
       " -0.3996327326344644,\n",
       " -0.6048543358193396,\n",
       " 0.2865049988898624,\n",
       " -1.48237610739289,\n",
       " 0.24858377214220814,\n",
       " -0.8979426021865298,\n",
       " 0.11490500260849712,\n",
       " -0.49201280389243446,\n",
       " 0.06155109619739608,\n",
       " -0.26787558162749936,\n",
       " 0.4735854770095347,\n",
       " 1.1982313205028188,\n",
       " -0.7028044886492217,\n",
       " -0.7755344041011498,\n",
       " -0.10556367665635895,\n",
       " 0.5376793502485103,\n",
       " -1.472561641187418,\n",
       " 0.034613544595947336,\n",
       " -0.7396370376879072,\n",
       " 0.015944845069678013,\n",
       " 0.40978661332891936,\n",
       " 1.5546224648201716,\n",
       " 1.9108113512385387,\n",
       " -1.5824581026187747,\n",
       " -1.2304504714568552,\n",
       " -2.121672856515203,\n",
       " -0.9400518743747075,\n",
       " -2.9571252262119194,\n",
       " 1.0809044012890185,\n",
       " 0.2657492650864089,\n",
       " 0.6201431194247423,\n",
       " -1.3640346852056646,\n",
       " 1.7274053816142654,\n",
       " -0.09608644982730653,\n",
       " 0.49082780175042,\n",
       " -0.7956799060246709,\n",
       " 0.6824202193558947,\n",
       " 0.7237305369007888,\n",
       " -2.398801780245537,\n",
       " -0.2747801908815524,\n",
       " -0.4281009434188001,\n",
       " -0.8240705865551925,\n",
       " 2.132564950423369,\n",
       " 0.9999161247295182,\n",
       " -1.294350343997148,\n",
       " 1.3821951004317958,\n",
       " 2.550440796754046,\n",
       " 1.2403598297383722,\n",
       " 1.8839786921577353,\n",
       " -0.5865170777198069,\n",
       " -0.9689379775650204,\n",
       " -1.4699833341473592,\n",
       " -1.454189214139304,\n",
       " -0.3702297976232455,\n",
       " -0.41415021165409427,\n",
       " 0.08572716712030379,\n",
       " -0.3432236678404374,\n",
       " -2.926180047999561,\n",
       " 0.4008022922388615,\n",
       " -0.961154068126118,\n",
       " -0.481938044787794,\n",
       " -1.4989890638510723,\n",
       " 0.8342888380447377,\n",
       " 0.7948451505304197,\n",
       " 0.62368230282948,\n",
       " -0.41957429149546177,\n",
       " 0.2609030154724343,\n",
       " 2.0793130100486974,\n",
       " 0.5924886855042669,\n",
       " -0.04591785771740647,\n",
       " 0.4910872689719442,\n",
       " 0.3411259145817578,\n",
       " -0.9875284831945498,\n",
       " 0.3183333625451675,\n",
       " -0.603985577342794,\n",
       " 1.0539327358422674,\n",
       " 0.3730872533902698,\n",
       " 0.08479734613103893,\n",
       " 0.014555093716155909,\n",
       " 1.4895923052415097,\n",
       " 1.8839882865271136,\n",
       " 0.987571749799056,\n",
       " 0.5907329325900681,\n",
       " -1.0838542776027218,\n",
       " -1.1970541635923009,\n",
       " 0.49907165261107267,\n",
       " 0.03293866140084145,\n",
       " -0.17427366203436007,\n",
       " -0.6903175458907418,\n",
       " -0.3377718649868969,\n",
       " -0.4886752958101732,\n",
       " -0.03978066654793455,\n",
       " 2.132245398367374,\n",
       " -0.45953297368491297,\n",
       " 2.386742295007268,\n",
       " -2.1115311889177484,\n",
       " -1.2492987141127287,\n",
       " 0.6469777497045405,\n",
       " -0.8354000801103549,\n",
       " 0.9330199144638084,\n",
       " 1.3094937285919608,\n",
       " 0.9164851301069485,\n",
       " 1.022296438180279,\n",
       " 1.7601141938916458,\n",
       " 1.0911607474965785,\n",
       " -0.021198908785467718,\n",
       " -0.28595755863649447,\n",
       " -0.2640876401263972,\n",
       " -0.7716498901192683,\n",
       " 0.5684668919696563,\n",
       " 0.1385090166794751,\n",
       " 1.1383859762157749,\n",
       " -0.2625769015091289,\n",
       " 0.20451237776266348,\n",
       " -1.6503426668625156,\n",
       " -0.15211181969735713,\n",
       " 0.9703071800001101,\n",
       " -1.49678594924604,\n",
       " 0.3169142055130604,\n",
       " 1.7633390583944546,\n",
       " 0.3170769172451155,\n",
       " -1.2120918230925122,\n",
       " 0.8164973415053252,\n",
       " -0.07262038792724917,\n",
       " 2.0136866513736242,\n",
       " 0.5979784905098711,\n",
       " -0.5446491099863853,\n",
       " 1.7222156456858104,\n",
       " 0.030136427683327402,\n",
       " 1.373006168214994,\n",
       " -0.9828448834784507,\n",
       " 1.5897945578602408,\n",
       " -0.11298664046460065,\n",
       " -0.02807782827066284,\n",
       " 1.3558826302396438,\n",
       " 0.43019542183538517,\n",
       " 0.0862660521043267,\n",
       " -1.3623462396796446,\n",
       " -0.09278500897650811,\n",
       " 0.7357176556369067,\n",
       " 0.8853677855976333,\n",
       " -0.40754956860897884,\n",
       " 2.619615531163459,\n",
       " 0.838744369997654,\n",
       " 0.13341375981985748,\n",
       " -0.9527034700511617,\n",
       " 0.18850898448451486,\n",
       " 0.9567755518679838,\n",
       " 1.5879274381423933,\n",
       " -0.36238932025889303,\n",
       " 0.0944097523397805,\n",
       " -1.3703753480957805,\n",
       " -0.5319641391834683,\n",
       " -0.0005335567643603313,\n",
       " -0.19801714299757445,\n",
       " -0.33564591269065,\n",
       " 1.5348584387354285,\n",
       " -0.39290099970486503,\n",
       " -0.4423450013838063,\n",
       " -0.5288648199602555,\n",
       " 1.4984130341164013,\n",
       " 1.3049331325248448,\n",
       " 0.08369793852926025,\n",
       " -0.876987827772004,\n",
       " -1.1803176216000888,\n",
       " -0.0889329630477412,\n",
       " -0.7986148198021493,\n",
       " -1.5592667110292286,\n",
       " -1.8763555020738973,\n",
       " -0.5518930674454213,\n",
       " -0.5024566578862176,\n",
       " 0.7563588719153785,\n",
       " -1.231438303470921,\n",
       " -0.6485960465410547,\n",
       " 0.9168226817443695,\n",
       " -0.5287384000924672,\n",
       " -1.2856161116945475,\n",
       " 1.765997508181721,\n",
       " 0.4093414644515535,\n",
       " 0.8182676316364959,\n",
       " 0.18220305937608988,\n",
       " -1.1645005413923397,\n",
       " 0.4825275463691663,\n",
       " 0.1524262173016652,\n",
       " -1.1711985626582653,\n",
       " 0.10428032700122541,\n",
       " 0.14970995197808187,\n",
       " -0.39855322855506775,\n",
       " 0.7355397938816517,\n",
       " -1.9230474179055097,\n",
       " -0.9762034068641033,\n",
       " 0.3335473668198686,\n",
       " -0.6523965924697105,\n",
       " 0.05454905111944557,\n",
       " 0.39327144618813603,\n",
       " -2.3374806045448726,\n",
       " 0.10447910079572012,\n",
       " -1.8580046946349134,\n",
       " 0.5824925474084454,\n",
       " -0.3841412801227719,\n",
       " 1.2948306424504803,\n",
       " -1.099164761729842,\n",
       " -0.12182260808139513,\n",
       " 0.129452733075784,\n",
       " 0.7144229864354532,\n",
       " -0.26372838280530414,\n",
       " -0.7980291177029489,\n",
       " 0.2305827492859282,\n",
       " -0.20212299166043424,\n",
       " 0.4448231806306831,\n",
       " 0.3421936121613776,\n",
       " 1.1212471403889548,\n",
       " -0.12160764968576572,\n",
       " 0.08438049533771753,\n",
       " -1.4318506263510036,\n",
       " -1.5736019590910328,\n",
       " -0.449965142315573,\n",
       " -0.9941162548177217,\n",
       " -1.056052751595818,\n",
       " -0.8483564669010644,\n",
       " 0.20694792254600658,\n",
       " 0.007219527758427542,\n",
       " 0.24600858843682172,\n",
       " -0.04579526682267849,\n",
       " 0.0914669926961103,\n",
       " -1.2537805052514555,\n",
       " -0.7901782560073629,\n",
       " -0.20604698715978845,\n",
       " -0.5465617151306825,\n",
       " -0.7578972800791282,\n",
       " -0.578583317976518,\n",
       " -0.533234958795374,\n",
       " 0.2774992401433795,\n",
       " -1.1547723168971566,\n",
       " 0.6930315598939226,\n",
       " -0.7762199493193761,\n",
       " 0.9396228654840124,\n",
       " 0.4417277289560285,\n",
       " -0.9826167637651165,\n",
       " 0.48592547386829293,\n",
       " 0.4074322538588186,\n",
       " 0.4901225882827334,\n",
       " 1.9099970415159686,\n",
       " -0.966058302409709,\n",
       " 0.41950551268777736,\n",
       " 2.2469800448900443,\n",
       " -0.6563171213025067,\n",
       " 0.07857897397946681,\n",
       " -0.8749355907045187,\n",
       " 0.38390490111274483,\n",
       " 1.593870527119801,\n",
       " 1.7665168511262004,\n",
       " 0.23721751899025484,\n",
       " -0.27627625478572476,\n",
       " -0.33505906891308535,\n",
       " 1.7005759782536016,\n",
       " 0.4428744139369119,\n",
       " -1.6663944991531898,\n",
       " -0.01262814010756059,\n",
       " -0.47382565449521685,\n",
       " -0.37310436917313194,\n",
       " -0.646651861886296,\n",
       " 0.5129388496747794,\n",
       " 0.14262433841530214,\n",
       " -1.8217042950867675,\n",
       " 2.315267348711902,\n",
       " 2.3013901519284876,\n",
       " -0.3333382010580467,\n",
       " 0.8243669451032495,\n",
       " 0.1165879451478167,\n",
       " 0.8127734583111967,\n",
       " 0.3992633657578528,\n",
       " -1.6321144816387156,\n",
       " -1.4368299837192735,\n",
       " 0.6784084865476049,\n",
       " 0.26014075998395253,\n",
       " 1.111038497334204,\n",
       " -0.6354916958543965,\n",
       " 2.3095538273790917,\n",
       " -0.9505721018964741,\n",
       " -1.2434856164853039,\n",
       " 0.3810461092039541,\n",
       " -1.0057986146859472,\n",
       " -2.7470549160979494,\n",
       " 1.4118952600240786,\n",
       " 0.6764093903676686,\n",
       " 0.46332512570562007,\n",
       " -0.3320367216392206,\n",
       " -0.32147453446101953,\n",
       " -0.7053131282401252,\n",
       " -0.4571262293027701,\n",
       " -0.7571176362427605,\n",
       " -1.3540927899365458,\n",
       " -1.708931268582189,\n",
       " -0.10674476371798122,\n",
       " 1.1676448685067902,\n",
       " 0.9376164472869245,\n",
       " -0.2497406304597409,\n",
       " 0.2932182665159751,\n",
       " 0.27285817511604915,\n",
       " -0.2578211959182172,\n",
       " 0.9098883281939439,\n",
       " 1.4888657237130543,\n",
       " 0.3831484986391864,\n",
       " 1.4307718054530583,\n",
       " 0.7292222829241046,\n",
       " -2.0224647082796268,\n",
       " -0.977867740311892,\n",
       " 1.0791819709238486,\n",
       " -1.2704343769292856,\n",
       " 0.4624190903017529,\n",
       " 1.2086313598886613,\n",
       " -0.9565974681704106,\n",
       " 0.2851070697722,\n",
       " 0.07388276504138261,\n",
       " 0.05717319759096096,\n",
       " -0.7006593209072336,\n",
       " 1.2666360253365914,\n",
       " 0.29410693150802186,\n",
       " -0.9657301362648304,\n",
       " -0.6576059730837082,\n",
       " 1.0111946234103077,\n",
       " 0.9546065155116104,\n",
       " 0.18558857779713595,\n",
       " -0.08147494597172152,\n",
       " 0.6184681544903887,\n",
       " 1.02245112863276,\n",
       " 1.2068040833833371,\n",
       " 1.220691451890716,\n",
       " 0.3995738785430398,\n",
       " 0.22674697365459986,\n",
       " -2.0248711689752277,\n",
       " -0.20240570606732206,\n",
       " 1.0285766485464578,\n",
       " 0.9438541925173034,\n",
       " 1.0659211628769127,\n",
       " 1.2464449327161098,\n",
       " 2.2523761176586494,\n",
       " 0.4306351146211614,\n",
       " 1.3489921396012126,\n",
       " -0.7712845425320217,\n",
       " 0.16792875911224547,\n",
       " 1.0383414575460386,\n",
       " -0.3379562068840812,\n",
       " 1.583616695295141,\n",
       " -0.8940321354091536,\n",
       " -0.8866845004401118,\n",
       " -0.6780850784243998,\n",
       " -0.8073936420885798,\n",
       " -2.090098492428014,\n",
       " 0.5232409107629472,\n",
       " -0.9980764165448589,\n",
       " 1.058132111259866,\n",
       " 0.815627741981718,\n",
       " 0.17220546006421694,\n",
       " -0.01258386910935544,\n",
       " 1.3308904024011816,\n",
       " -0.11041911977339179,\n",
       " -1.4368987200081458,\n",
       " 0.47252844019190293,\n",
       " 1.5809067707650684,\n",
       " 0.19257733413014574,\n",
       " -0.602367350108494,\n",
       " -1.6188474284844176,\n",
       " 0.9861614562668937,\n",
       " 0.7719467521276723,\n",
       " -0.042917921970079966,\n",
       " 2.3601594694694805,\n",
       " -0.5324237044283436,\n",
       " -0.31335696117769163,\n",
       " -0.17950621278635132,\n",
       " 1.0779588161571434,\n",
       " -2.324381021430842,\n",
       " -0.08053518185390783,\n",
       " -1.053288102361765,\n",
       " -0.769771169487281,\n",
       " -0.027145784133986252,\n",
       " -0.726899128931611,\n",
       " -0.04537505034753804,\n",
       " 0.16600558643315552,\n",
       " -0.7888836812446887,\n",
       " 0.6916293462880171,\n",
       " -0.9608193575859759,\n",
       " 0.3798789447688262,\n",
       " 0.5291306389375187,\n",
       " 0.14181783415976126,\n",
       " -0.14342698865054854,\n",
       " 0.8622177354258594,\n",
       " -0.9281297144886801,\n",
       " 0.8304328069056054,\n",
       " -1.6485753047880296,\n",
       " -0.7947166440438443,\n",
       " -0.5903841662673214,\n",
       " ...]"
      ]
     },
     "execution_count": 123,
     "metadata": {},
     "output_type": "execute_result"
    }
   ],
   "source": [
    "np.random.seed(1234)\n",
    "samples"
   ]
  },
  {
   "cell_type": "code",
   "execution_count": 124,
   "metadata": {},
   "outputs": [],
   "source": [
    "rng = np.random.RandomState(1234)"
   ]
  },
  {
   "cell_type": "code",
   "execution_count": 125,
   "metadata": {},
   "outputs": [
    {
     "data": {
      "text/plain": [
       "array([ 0.47143516, -1.19097569,  1.43270697, -0.3126519 , -0.72058873,\n",
       "        0.88716294,  0.85958841, -0.6365235 ,  0.01569637, -2.24268495])"
      ]
     },
     "execution_count": 125,
     "metadata": {},
     "output_type": "execute_result"
    }
   ],
   "source": [
    "rng.randn(10) "
   ]
  },
  {
   "cell_type": "code",
   "execution_count": 127,
   "metadata": {},
   "outputs": [],
   "source": [
    "import random\n",
    "position = 0\n",
    "walk = [position]\n",
    "steps = 1000\n",
    "for i in range(steps):\n",
    "    step = 1 if random.randint(0, 1) else -1\n",
    "    position += step\n",
    "walk.append(position)"
   ]
  },
  {
   "cell_type": "code",
   "execution_count": 128,
   "metadata": {},
   "outputs": [
    {
     "ename": "NameError",
     "evalue": "name 'plt' is not defined",
     "output_type": "error",
     "traceback": [
      "\u001b[1;31m---------------------------------------------------------------------------\u001b[0m",
      "\u001b[1;31mNameError\u001b[0m                                 Traceback (most recent call last)",
      "\u001b[1;32m<ipython-input-128-8e0e495a3e1c>\u001b[0m in \u001b[0;36m<module>\u001b[1;34m\u001b[0m\n\u001b[1;32m----> 1\u001b[1;33m \u001b[0mplt\u001b[0m\u001b[1;33m.\u001b[0m\u001b[0mfigure\u001b[0m\u001b[1;33m(\u001b[0m\u001b[1;33m)\u001b[0m\u001b[1;33m\u001b[0m\u001b[1;33m\u001b[0m\u001b[0m\n\u001b[0m\u001b[0;32m      2\u001b[0m \u001b[0mplt\u001b[0m\u001b[1;33m.\u001b[0m\u001b[0mplot\u001b[0m\u001b[1;33m(\u001b[0m\u001b[0mwalk\u001b[0m\u001b[1;33m[\u001b[0m\u001b[1;33m:\u001b[0m\u001b[1;36m100\u001b[0m\u001b[1;33m]\u001b[0m\u001b[1;33m)\u001b[0m\u001b[1;33m\u001b[0m\u001b[1;33m\u001b[0m\u001b[0m\n",
      "\u001b[1;31mNameError\u001b[0m: name 'plt' is not defined"
     ]
    }
   ],
   "source": [
    "plt.figure()\n",
    "plt.plot(walk[:100])"
   ]
  },
  {
   "cell_type": "code",
   "execution_count": 129,
   "metadata": {},
   "outputs": [],
   "source": [
    "np.random.seed(12345)\n",
    "nsteps = 1000\n",
    "draws = np.random.randint(0, 2, size=nsteps)\n",
    "steps = np.where(draws > 0, 1, -1)\n",
    "walk = steps.cumsum()"
   ]
  },
  {
   "cell_type": "code",
   "execution_count": 130,
   "metadata": {},
   "outputs": [
    {
     "ename": "NameError",
     "evalue": "name 'plt' is not defined",
     "output_type": "error",
     "traceback": [
      "\u001b[1;31m---------------------------------------------------------------------------\u001b[0m",
      "\u001b[1;31mNameError\u001b[0m                                 Traceback (most recent call last)",
      "\u001b[1;32m<ipython-input-130-8e0e495a3e1c>\u001b[0m in \u001b[0;36m<module>\u001b[1;34m\u001b[0m\n\u001b[1;32m----> 1\u001b[1;33m \u001b[0mplt\u001b[0m\u001b[1;33m.\u001b[0m\u001b[0mfigure\u001b[0m\u001b[1;33m(\u001b[0m\u001b[1;33m)\u001b[0m\u001b[1;33m\u001b[0m\u001b[1;33m\u001b[0m\u001b[0m\n\u001b[0m\u001b[0;32m      2\u001b[0m \u001b[0mplt\u001b[0m\u001b[1;33m.\u001b[0m\u001b[0mplot\u001b[0m\u001b[1;33m(\u001b[0m\u001b[0mwalk\u001b[0m\u001b[1;33m[\u001b[0m\u001b[1;33m:\u001b[0m\u001b[1;36m100\u001b[0m\u001b[1;33m]\u001b[0m\u001b[1;33m)\u001b[0m\u001b[1;33m\u001b[0m\u001b[1;33m\u001b[0m\u001b[0m\n",
      "\u001b[1;31mNameError\u001b[0m: name 'plt' is not defined"
     ]
    }
   ],
   "source": [
    "plt.figure()\n",
    "plt.plot(walk[:100])"
   ]
  },
  {
   "cell_type": "code",
   "execution_count": 131,
   "metadata": {},
   "outputs": [
    {
     "data": {
      "text/plain": [
       "-3"
      ]
     },
     "execution_count": 131,
     "metadata": {},
     "output_type": "execute_result"
    }
   ],
   "source": [
    "walk.min()"
   ]
  },
  {
   "cell_type": "code",
   "execution_count": 132,
   "metadata": {},
   "outputs": [
    {
     "data": {
      "text/plain": [
       "31"
      ]
     },
     "execution_count": 132,
     "metadata": {},
     "output_type": "execute_result"
    }
   ],
   "source": [
    "walk.max()"
   ]
  },
  {
   "cell_type": "code",
   "execution_count": 133,
   "metadata": {},
   "outputs": [
    {
     "data": {
      "text/plain": [
       "37"
      ]
     },
     "execution_count": 133,
     "metadata": {},
     "output_type": "execute_result"
    }
   ],
   "source": [
    "(np.abs(walk)>=10).argmax()"
   ]
  },
  {
   "cell_type": "code",
   "execution_count": 134,
   "metadata": {},
   "outputs": [
    {
     "data": {
      "text/plain": [
       "37"
      ]
     },
     "execution_count": 134,
     "metadata": {},
     "output_type": "execute_result"
    }
   ],
   "source": [
    "np.where(np.abs(walk)>=10)[0][0]\n",
    "np.nonzero(np.abs(walk)>=10)[0][0]"
   ]
  },
  {
   "cell_type": "code",
   "execution_count": 139,
   "metadata": {},
   "outputs": [],
   "source": [
    "nwalks = 5000\n",
    "nsteps = 1000\n",
    "draws = np.random.randint(0, 2, size=(nwalks, nsteps)) \n",
    "steps = np.where(draws > 0, 1, -1)\n",
    "walks = steps.cumsum(1)"
   ]
  },
  {
   "cell_type": "code",
   "execution_count": 140,
   "metadata": {},
   "outputs": [
    {
     "data": {
      "text/plain": [
       "array([[  1,   0,  -1, ..., -16, -17, -16],\n",
       "       [ -1,   0,  -1, ...,  -6,  -7,  -6],\n",
       "       [  1,   2,   3, ...,  46,  45,  46],\n",
       "       ...,\n",
       "       [  1,   0,  -1, ..., -30, -31, -30],\n",
       "       [ -1,   0,   1, ..., -44, -43, -44],\n",
       "       [  1,   0,   1, ..., -48, -49, -48]], dtype=int32)"
      ]
     },
     "execution_count": 140,
     "metadata": {},
     "output_type": "execute_result"
    }
   ],
   "source": [
    "walks"
   ]
  },
  {
   "cell_type": "code",
   "execution_count": 141,
   "metadata": {},
   "outputs": [
    {
     "data": {
      "text/plain": [
       "111"
      ]
     },
     "execution_count": 141,
     "metadata": {},
     "output_type": "execute_result"
    }
   ],
   "source": [
    "walks.min()\n",
    "walks.max()"
   ]
  },
  {
   "cell_type": "code",
   "execution_count": 142,
   "metadata": {},
   "outputs": [
    {
     "data": {
      "text/plain": [
       "array([False, False,  True, ...,  True,  True,  True])"
      ]
     },
     "execution_count": 142,
     "metadata": {},
     "output_type": "execute_result"
    }
   ],
   "source": [
    "hits30 = (np.abs(walks) >= 30).any(1)\n",
    "hits30"
   ]
  },
  {
   "cell_type": "code",
   "execution_count": 143,
   "metadata": {},
   "outputs": [
    {
     "data": {
      "text/plain": [
       "3340"
      ]
     },
     "execution_count": 143,
     "metadata": {},
     "output_type": "execute_result"
    }
   ],
   "source": [
    "hits30.sum() # Number that hit 30 or -30"
   ]
  },
  {
   "cell_type": "code",
   "execution_count": 144,
   "metadata": {},
   "outputs": [],
   "source": [
    "crossing_times = (np.abs(walks[hits30]) >= 30).argmax(1)"
   ]
  },
  {
   "cell_type": "code",
   "execution_count": 145,
   "metadata": {},
   "outputs": [
    {
     "data": {
      "text/plain": [
       "510.64610778443114"
      ]
     },
     "execution_count": 145,
     "metadata": {},
     "output_type": "execute_result"
    }
   ],
   "source": [
    "crossing_times.mean() "
   ]
  },
  {
   "cell_type": "code",
   "execution_count": 147,
   "metadata": {},
   "outputs": [],
   "source": [
    "steps = np.random.normal(loc=0, scale=0.25, size=(nwalks, nsteps))"
   ]
  },
  {
   "cell_type": "code",
   "execution_count": null,
   "metadata": {},
   "outputs": [],
   "source": []
  }
 ],
 "metadata": {
  "kernelspec": {
   "display_name": "Python 3",
   "language": "python",
   "name": "python3"
  },
  "language_info": {
   "codemirror_mode": {
    "name": "ipython",
    "version": 3
   },
   "file_extension": ".py",
   "mimetype": "text/x-python",
   "name": "python",
   "nbconvert_exporter": "python",
   "pygments_lexer": "ipython3",
   "version": "3.7.6"
  }
 },
 "nbformat": 4,
 "nbformat_minor": 4
}
