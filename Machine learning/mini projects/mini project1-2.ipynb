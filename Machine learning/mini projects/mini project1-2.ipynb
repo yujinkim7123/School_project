{
 "cells": [
  {
   "cell_type": "markdown",
   "metadata": {},
   "source": [
    "# 데이터 다운로드"
   ]
  },
  {
   "cell_type": "markdown",
   "metadata": {},
   "source": [
    "# 주의 사항 : 5시간 걸립니다. ( svm에 데이터가 너무 커서)"
   ]
  },
  {
   "cell_type": "code",
   "execution_count": 31,
   "metadata": {},
   "outputs": [],
   "source": [
    "import pandas as pd\n",
    "mnist_test = pd.read_csv('emnist-digits-test.csv',header=None)\n",
    "mnist = pd.read_csv('emnist-digits-train.csv',header=None) \n",
    "#엑셀 다운로드"
   ]
  },
  {
   "cell_type": "code",
   "execution_count": 32,
   "metadata": {},
   "outputs": [],
   "source": [
    "import numpy as np\n",
    "mnist = np.array(mnist)\n",
    "mnist_test = np.array(mnist_test)"
   ]
  },
  {
   "cell_type": "code",
   "execution_count": 33,
   "metadata": {},
   "outputs": [],
   "source": [
    "mnist_train_target = mnist[:,0]\n",
    "mnist_train_data = mnist[:,1:]\n",
    "mnist_test_target = mnist_test[:,0]\n",
    "mnist_test_data = mnist_test[:,1:]\n",
    "#타켓 레이블과 특성값으로 나눔"
   ]
  },
  {
   "cell_type": "code",
   "execution_count": 34,
   "metadata": {},
   "outputs": [],
   "source": [
    "import numpy as np\n",
    "\n",
    "shuffle_index = np.random.permutation(240000)\n",
    "mnist_train_data, mnist_train_target = mnist_train_data[shuffle_index], mnist_train_target[shuffle_index]"
   ]
  },
  {
   "cell_type": "markdown",
   "metadata": {},
   "source": [
    "# Feature Scaling"
   ]
  },
  {
   "cell_type": "markdown",
   "metadata": {},
   "source": [
    "### StandardScaler"
   ]
  },
  {
   "cell_type": "code",
   "execution_count": 35,
   "metadata": {},
   "outputs": [],
   "source": [
    "from sklearn.preprocessing import StandardScaler\n",
    "scaler = StandardScaler()\n",
    "mnist_train_data_scale = scaler.fit_transform(mnist_train_data.astype(np.float32))\n",
    "mnist_test_data_scale  = scaler.transform(mnist_test_data.astype(np.float32))"
   ]
  },
  {
   "cell_type": "markdown",
   "metadata": {},
   "source": [
    "* Min-Max스케일링은0-15사이의모든값을0-0.15로만들어버림\n",
    "* 표준화는이상치를포함하여데이터분포를1로만드므로영향을적게받음"
   ]
  },
  {
   "cell_type": "markdown",
   "metadata": {},
   "source": [
    "# Feature Engineering"
   ]
  },
  {
   "cell_type": "code",
   "execution_count": 36,
   "metadata": {},
   "outputs": [],
   "source": [
    "#mnist_train_data = np.mean(mnist_train_data, axis = 1)\n",
    "#mnist_train_data=mnist_train_data.reshape(-1,1)"
   ]
  },
  {
   "cell_type": "markdown",
   "metadata": {},
   "source": [
    "* 픽셀 평균: 특성이 줄어들어서 결과 안좋아짐"
   ]
  },
  {
   "cell_type": "markdown",
   "metadata": {},
   "source": [
    "# TrainMode"
   ]
  },
  {
   "cell_type": "markdown",
   "metadata": {},
   "source": [
    "## SGD"
   ]
  },
  {
   "cell_type": "code",
   "execution_count": 37,
   "metadata": {},
   "outputs": [
    {
     "data": {
      "text/plain": [
       "'from sklearn.linear_model import SGDClassifier\\n\\nsgd_clf = SGDClassifier(max_iter=5, tol=-np.infty, random_state=42)\\nsgd_clf.fit(mnist_train_data_scale, mnist_train_target)\\n#SGD분류기 max_iter 통과하는 데이터 수 온라인 학습'"
      ]
     },
     "execution_count": 37,
     "metadata": {},
     "output_type": "execute_result"
    }
   ],
   "source": [
    "'''from sklearn.linear_model import SGDClassifier\n",
    "\n",
    "sgd_clf = SGDClassifier(max_iter=5, tol=-np.infty, random_state=42)\n",
    "sgd_clf.fit(mnist_train_data_scale, mnist_train_target)\n",
    "#SGD분류기 max_iter 통과하는 데이터 수 온라인 학습'''"
   ]
  },
  {
   "cell_type": "markdown",
   "metadata": {},
   "source": [
    "## RandomForest"
   ]
  },
  {
   "cell_type": "code",
   "execution_count": 38,
   "metadata": {},
   "outputs": [
    {
     "data": {
      "text/plain": [
       "'from sklearn.ensemble import RandomForestClassifier\\nforest_clf = RandomForestClassifier(n_estimators=100, max_depth=20, n_jobs=-1, random_state=42)\\nforest_clf.fit(mnist_train_data_scale, mnist_train_target)'"
      ]
     },
     "execution_count": 38,
     "metadata": {},
     "output_type": "execute_result"
    }
   ],
   "source": [
    "'''from sklearn.ensemble import RandomForestClassifier\n",
    "forest_clf = RandomForestClassifier(n_estimators=100, max_depth=20, n_jobs=-1, random_state=42)\n",
    "forest_clf.fit(mnist_train_data_scale, mnist_train_target)'''"
   ]
  },
  {
   "cell_type": "markdown",
   "metadata": {},
   "source": [
    "* n_estimators: 랜덤 포레스트 안의 결정 트리 갯수\n",
    "* n_estimators 10: 0.97\n",
    "* n_estimators 100: 0.981175\n",
    "* max_features: n_features로 설정하면 트리의 각 분기에서 모든 특성을 고려하므로 특성 선택에 무작위성이 들어가지 않습니다. 그래서 default로 적게 "
   ]
  },
  {
   "cell_type": "markdown",
   "metadata": {},
   "source": [
    "## DecisionTree"
   ]
  },
  {
   "cell_type": "code",
   "execution_count": 39,
   "metadata": {},
   "outputs": [
    {
     "data": {
      "text/plain": [
       "'from sklearn.tree import DecisionTreeClassifier\\ntree_clf = DecisionTreeClassifier(max_depth=20, random_state=42)\\ntree_clf.fit(mnist_train_data_scale, mnist_train_target)'"
      ]
     },
     "execution_count": 39,
     "metadata": {},
     "output_type": "execute_result"
    }
   ],
   "source": [
    "'''from sklearn.tree import DecisionTreeClassifier\n",
    "tree_clf = DecisionTreeClassifier(max_depth=20, random_state=42)\n",
    "tree_clf.fit(mnist_train_data_scale, mnist_train_target)'''"
   ]
  },
  {
   "cell_type": "markdown",
   "metadata": {},
   "source": [
    "* default : 0.92\n",
    "* max_depth 15: 0.9273\n",
    "* max_depth 20:0.9274\n",
    "* max_depth 25:0.92505 "
   ]
  },
  {
   "cell_type": "markdown",
   "metadata": {},
   "source": [
    "## SVM"
   ]
  },
  {
   "cell_type": "markdown",
   "metadata": {},
   "source": [
    "**1. LinearSVC**"
   ]
  },
  {
   "cell_type": "code",
   "execution_count": 40,
   "metadata": {},
   "outputs": [
    {
     "data": {
      "text/plain": [
       "'from sklearn.svm import LinearSVC\\nsvm_clf= LinearSVC(max_iter=10,loss=\"hinge\", random_state=42)\\nsvm_clf.fit(mnist_train_data_scale, mnist_train_target)'"
      ]
     },
     "execution_count": 40,
     "metadata": {},
     "output_type": "execute_result"
    }
   ],
   "source": [
    "'''from sklearn.svm import LinearSVC\n",
    "svm_clf= LinearSVC(max_iter=10,loss=\"hinge\", random_state=42)\n",
    "svm_clf.fit(mnist_train_data_scale, mnist_train_target)'''"
   ]
  },
  {
   "cell_type": "markdown",
   "metadata": {},
   "source": [
    "* C: 마진 오류 조절 ( c크면 오류 작아짐)\n",
    "* tol(허용오차): 0이면 정상적 분류 , 0 < tol < 1 , 1이상 잘못 분류\n",
    "* 0.87"
   ]
  },
  {
   "cell_type": "markdown",
   "metadata": {},
   "source": [
    "**2. 다항특성과 LinearSVC**"
   ]
  },
  {
   "cell_type": "code",
   "execution_count": 42,
   "metadata": {},
   "outputs": [
    {
     "data": {
      "text/plain": [
       "'import numpy as np\\nfrom sklearn import datasets\\nfrom sklearn.pipeline import Pipeline\\nfrom sklearn.preprocessing import StandardScaler\\nfrom sklearn.svm import LinearSVC\\nfrom sklearn.preprocessing import PolynomialFeatures\\n\\nscaler = StandardScaler()\\nmnist_train_data_scale = scaler.fit_transform(mnist_train_data)\\npoly = PolynomialFeatures(3)\\ny = poly.fit_transform(mnist_train_data_scale, y=None)\\npolynomial_svm= LinearSVC(max_iter=10,loss=\"hinge\", random_state=42)\\npolynomial_svm.fit(mnist_train_data_scale, mnist_train_target)'"
      ]
     },
     "execution_count": 42,
     "metadata": {},
     "output_type": "execute_result"
    }
   ],
   "source": [
    "'''import numpy as np\n",
    "from sklearn import datasets\n",
    "from sklearn.pipeline import Pipeline\n",
    "from sklearn.preprocessing import StandardScaler\n",
    "from sklearn.svm import LinearSVC\n",
    "from sklearn.preprocessing import PolynomialFeatures\n",
    "\n",
    "scaler = StandardScaler()\n",
    "mnist_train_data_scale = scaler.fit_transform(mnist_train_data)\n",
    "poly = PolynomialFeatures(3)\n",
    "y = poly.fit_transform(mnist_train_data_scale, y=None)\n",
    "polynomial_svm= LinearSVC(max_iter=10,loss=\"hinge\", random_state=42)\n",
    "polynomial_svm.fit(y, mnist_train_target)'''\n"
   ]
  },
  {
   "cell_type": "markdown",
   "metadata": {},
   "source": [
    "**3. SVC**"
   ]
  },
  {
   "cell_type": "code",
   "execution_count": 12,
   "metadata": {
    "scrolled": true
   },
   "outputs": [
    {
     "data": {
      "text/plain": [
       "'from sklearn.svm import SVC\\npoly_kernel_svm_clf = SVC(kernel=\"poly\", degree=3, coef0=1, C= 100, gamma=\\'auto\\', max_iter=2000)\\npoly_kernel_svm_clf.fit(mnist_train_data_scale, mnist_train_target)'"
      ]
     },
     "execution_count": 12,
     "metadata": {},
     "output_type": "execute_result"
    }
   ],
   "source": [
    "'''from sklearn.svm import SVC\n",
    "poly_kernel_svm_clf = SVC(kernel=\"poly\", degree=3, coef0=1, C= 100, gamma='auto', max_iter=2000)\n",
    "poly_kernel_svm_clf.fit(mnist_train_data_scale, mnist_train_target)'''"
   ]
  },
  {
   "cell_type": "markdown",
   "metadata": {},
   "source": [
    "* coef0 - 고차항 영향\n",
    "* coef0 1: 044 (max_iter = 10 , 빠른 확인)\n",
    "* coef0 100:0.38 (max_iter = 10 , 빠른 확인)\n",
    "* C 5: 0.4 \n",
    "* C 20:0.46\n",
    "* 오차 0.988 (max_iter = -1)\n",
    "* max_iter = 2000 0.987"
   ]
  },
  {
   "cell_type": "markdown",
   "metadata": {},
   "source": [
    "**4. RBF SVC**"
   ]
  },
  {
   "cell_type": "code",
   "execution_count": 13,
   "metadata": {},
   "outputs": [
    {
     "data": {
      "text/plain": [
       "'from sklearn.svm import SVC\\nrbf_kernel_svm_clf = SVC(degree=3, kernel=\"rbf\", gamma=0.005, C=5, max_iter = 500)\\nrbf_kernel_svm_clf.fit(mnist_train_data_scale, mnist_train_target)  \\n# 하루돌리고 오류 포기'"
      ]
     },
     "execution_count": 13,
     "metadata": {},
     "output_type": "execute_result"
    }
   ],
   "source": [
    "'''from sklearn.svm import SVC\n",
    "rbf_kernel_svm_clf = SVC(degree=3, kernel=\"rbf\", gamma=0.005, C=5, max_iter = 500)\n",
    "rbf_kernel_svm_clf.fit(mnist_train_data_scale, mnist_train_target)  \n",
    "# 하루돌리고 오류 포기'''"
   ]
  },
  {
   "cell_type": "markdown",
   "metadata": {},
   "source": [
    "* 0,975 (max_iter = 100)"
   ]
  },
  {
   "cell_type": "markdown",
   "metadata": {},
   "source": [
    "## Logistic Regression"
   ]
  },
  {
   "cell_type": "code",
   "execution_count": 14,
   "metadata": {},
   "outputs": [
    {
     "data": {
      "text/plain": [
       "\"from sklearn.linear_model import LogisticRegression\\nlog_reg = LogisticRegression(multi_class='multinomial', solver='lbfgs',C=50 ,random_state=42)\\nlog_reg.fit(mnist_train_data_scale, mnist_train_target)\""
      ]
     },
     "execution_count": 14,
     "metadata": {},
     "output_type": "execute_result"
    }
   ],
   "source": [
    "'''from sklearn.linear_model import LogisticRegression\n",
    "log_reg = LogisticRegression(multi_class='multinomial', solver='lbfgs',C=50 ,random_state=42)\n",
    "log_reg.fit(mnist_train_data_scale, mnist_train_target)'''"
   ]
  },
  {
   "cell_type": "markdown",
   "metadata": {},
   "source": [
    "## Voting classifiers"
   ]
  },
  {
   "cell_type": "code",
   "execution_count": 15,
   "metadata": {},
   "outputs": [
    {
     "data": {
      "text/plain": [
       "'from sklearn.ensemble import VotingClassifier\\nfrom sklearn.svm import SVC\\nfrom sklearn.tree import DecisionTreeClassifier\\nfrom sklearn.ensemble import RandomForestClassifier\\nfrom sklearn.linear_model import SGDClassifier\\n\\nsgd_clf = Classifier(max_iter=5, tol=-np.infty, random_state=42)\\nforest_clf = RandomForestClassifier(n_estimators=100, max_depth=20, n_jobs=-1, random_state=42)\\npoly_kernel_svm_clf = SVC(kernel=\"poly\", degree=3, coef0=1, C= 100, gamma=\\'auto\\', max_iter=2000)'"
      ]
     },
     "execution_count": 15,
     "metadata": {},
     "output_type": "execute_result"
    }
   ],
   "source": [
    "'''from sklearn.ensemble import VotingClassifier\n",
    "from sklearn.svm import SVC\n",
    "from sklearn.tree import DecisionTreeClassifier\n",
    "from sklearn.ensemble import RandomForestClassifier\n",
    "from sklearn.linear_model import SGDClassifier\n",
    "\n",
    "sgd_clf = Classifier(max_iter=5, tol=-np.infty, random_state=42)\n",
    "forest_clf = RandomForestClassifier(n_estimators=100, max_depth=20, n_jobs=-1, random_state=42)\n",
    "poly_kernel_svm_clf = SVC(kernel=\"poly\", degree=3, coef0=1, C= 100, gamma='auto', max_iter=2000)'''"
   ]
  },
  {
   "cell_type": "code",
   "execution_count": 16,
   "metadata": {},
   "outputs": [
    {
     "data": {
      "text/plain": [
       "\"voting_clf = VotingClassifier(\\n    estimators=[('fc', forest_clf), ('sc', sgd_clf), ('svc', poly_kernel_svm_clf)],\\n    voting='hard')\""
      ]
     },
     "execution_count": 16,
     "metadata": {},
     "output_type": "execute_result"
    }
   ],
   "source": [
    "'''voting_clf = VotingClassifier(\n",
    "    estimators=[('fc', forest_clf), ('sc', sgd_clf), ('svc', poly_kernel_svm_clf)],\n",
    "    voting='hard')'''"
   ]
  },
  {
   "cell_type": "code",
   "execution_count": 17,
   "metadata": {},
   "outputs": [
    {
     "data": {
      "text/plain": [
       "'voting_clf.fit(mnist_train_data_scale, mnist_train_target)'"
      ]
     },
     "execution_count": 17,
     "metadata": {},
     "output_type": "execute_result"
    }
   ],
   "source": [
    "'''voting_clf.fit(mnist_train_data_scale, mnist_train_target)'''"
   ]
  },
  {
   "cell_type": "code",
   "execution_count": 18,
   "metadata": {},
   "outputs": [],
   "source": [
    "from sklearn.ensemble import VotingClassifier\n",
    "from sklearn.svm import SVC\n",
    "from sklearn.ensemble import RandomForestClassifier\n",
    "forest_clf = RandomForestClassifier(n_estimators=100, max_depth=20, n_jobs=-1, random_state=42)\n",
    "poly_kernel_svm_clf = SVC(kernel=\"poly\", degree=3, coef0=1, C= 100, gamma='auto', max_iter=2500, probability= True)"
   ]
  },
  {
   "cell_type": "code",
   "execution_count": 19,
   "metadata": {},
   "outputs": [],
   "source": [
    "voting_clf = VotingClassifier(\n",
    "    estimators=[('fc', forest_clf), ('svc', poly_kernel_svm_clf)],\n",
    "    voting='soft')"
   ]
  },
  {
   "cell_type": "code",
   "execution_count": 20,
   "metadata": {},
   "outputs": [
    {
     "name": "stderr",
     "output_type": "stream",
     "text": [
      "C:\\Users\\Ubicomp_Lab\\Anaconda3\\lib\\site-packages\\sklearn\\svm\\base.py:241: ConvergenceWarning: Solver terminated early (max_iter=2500).  Consider pre-processing your data with StandardScaler or MinMaxScaler.\n",
      "  % self.max_iter, ConvergenceWarning)\n"
     ]
    },
    {
     "data": {
      "text/plain": [
       "VotingClassifier(estimators=[('fc',\n",
       "                              RandomForestClassifier(bootstrap=True,\n",
       "                                                     class_weight=None,\n",
       "                                                     criterion='gini',\n",
       "                                                     max_depth=20,\n",
       "                                                     max_features='auto',\n",
       "                                                     max_leaf_nodes=None,\n",
       "                                                     min_impurity_decrease=0.0,\n",
       "                                                     min_impurity_split=None,\n",
       "                                                     min_samples_leaf=1,\n",
       "                                                     min_samples_split=2,\n",
       "                                                     min_weight_fraction_leaf=0.0,\n",
       "                                                     n_estimators=100,\n",
       "                                                     n_jobs=-1, oob_score=False,\n",
       "                                                     random_state=42, verbose=0,\n",
       "                                                     warm_start=False)),\n",
       "                             ('svc',\n",
       "                              SVC(C=100, cache_size=200, class_weight=None,\n",
       "                                  coef0=1, decision_function_shape='ovr',\n",
       "                                  degree=3, gamma='auto', kernel='poly',\n",
       "                                  max_iter=2500, probability=True,\n",
       "                                  random_state=None, shrinking=True, tol=0.001,\n",
       "                                  verbose=False))],\n",
       "                 flatten_transform=True, n_jobs=None, voting='soft',\n",
       "                 weights=None)"
      ]
     },
     "execution_count": 20,
     "metadata": {},
     "output_type": "execute_result"
    }
   ],
   "source": [
    "voting_clf.fit(mnist_train_data_scale, mnist_train_target)"
   ]
  },
  {
   "cell_type": "markdown",
   "metadata": {},
   "source": [
    "* 0.99"
   ]
  },
  {
   "cell_type": "markdown",
   "metadata": {},
   "source": [
    "# Performance Measure"
   ]
  },
  {
   "cell_type": "markdown",
   "metadata": {},
   "source": [
    "## Cross-validation"
   ]
  },
  {
   "cell_type": "markdown",
   "metadata": {},
   "source": [
    "**1. SGD**"
   ]
  },
  {
   "cell_type": "code",
   "execution_count": 21,
   "metadata": {},
   "outputs": [],
   "source": [
    "#from sklearn.model_selection import cross_val_score\n",
    "#cross_val_score(sgd_clf, mnist_train_data_scale,mnist_train_target, cv=10, scoring=\"accuracy\")\n",
    "#SGD분류기 10-fold 교차검증"
   ]
  },
  {
   "cell_type": "markdown",
   "metadata": {},
   "source": [
    "**2. RandomForest**"
   ]
  },
  {
   "cell_type": "code",
   "execution_count": 22,
   "metadata": {},
   "outputs": [],
   "source": [
    "#cross_val_score(forest_clf, mnist_train_data_scale,mnist_train_target, cv=10, scoring=\"accuracy\")\n",
    "#randomforest 분류기 10-fold 교차검증"
   ]
  },
  {
   "cell_type": "markdown",
   "metadata": {},
   "source": [
    "**3. DecisionTree**"
   ]
  },
  {
   "cell_type": "code",
   "execution_count": 23,
   "metadata": {},
   "outputs": [],
   "source": [
    "#cross_val_score(tree_clf, mnist_train_data_scale,mnist_train_target, cv=10, scoring=\"accuracy\")\n",
    "#DT분류기 10-fold 교차검증"
   ]
  },
  {
   "cell_type": "markdown",
   "metadata": {},
   "source": [
    "**4. LinearSVC**"
   ]
  },
  {
   "cell_type": "code",
   "execution_count": 24,
   "metadata": {},
   "outputs": [],
   "source": [
    "#cross_val_score(svm_clf, mnist_train_data_scale,mnist_train_target, cv=10, scoring=\"accuracy\")"
   ]
  },
  {
   "cell_type": "markdown",
   "metadata": {},
   "source": [
    "**4. 다항특성과 LinearSVC(안됨)**"
   ]
  },
  {
   "cell_type": "code",
   "execution_count": 25,
   "metadata": {},
   "outputs": [],
   "source": [
    "#cross_val_score(polynomial_svm_clf, mnist_train_data_scale ,mnist_train_target, cv=10, scoring=\"accuracy\")\n",
    "# 왜인지는 모르겠고 안된다."
   ]
  },
  {
   "cell_type": "markdown",
   "metadata": {},
   "source": [
    "**5. SVC**"
   ]
  },
  {
   "cell_type": "code",
   "execution_count": 26,
   "metadata": {},
   "outputs": [],
   "source": [
    "#cross_val_score(poly_kernel_svm_clf, mnist_train_data_scale,mnist_train_target, cv=10, scoring=\"accuracy\")"
   ]
  },
  {
   "cell_type": "markdown",
   "metadata": {},
   "source": [
    "**6. RBF SVC**"
   ]
  },
  {
   "cell_type": "code",
   "execution_count": 27,
   "metadata": {},
   "outputs": [],
   "source": [
    "#cross_val_score(rbf_kernel_svm_clf, mnist_train_data_scale,mnist_train_target, cv=10, scoring=  \"accuracy\")"
   ]
  },
  {
   "cell_type": "markdown",
   "metadata": {},
   "source": [
    "**6. Voting classifiers**"
   ]
  },
  {
   "cell_type": "code",
   "execution_count": 43,
   "metadata": {
    "scrolled": true
   },
   "outputs": [],
   "source": [
    "#from sklearn.model_selection import cross_val_score\n",
    "#cross_val_score(voting_clf, mnist_train_data_scale,mnist_train_target, cv=3, scoring=  \"accuracy\")"
   ]
  },
  {
   "cell_type": "markdown",
   "metadata": {},
   "source": [
    "## 오차행렬"
   ]
  },
  {
   "cell_type": "code",
   "execution_count": 44,
   "metadata": {},
   "outputs": [],
   "source": [
    "#conf_mx = confusion_matrix(mnist_train_target, y_train_pred)\n",
    "#conf_mx"
   ]
  },
  {
   "cell_type": "markdown",
   "metadata": {},
   "source": [
    "# 정확도"
   ]
  },
  {
   "cell_type": "code",
   "execution_count": 30,
   "metadata": {},
   "outputs": [
    {
     "data": {
      "text/plain": [
       "0.990125"
      ]
     },
     "execution_count": 30,
     "metadata": {},
     "output_type": "execute_result"
    }
   ],
   "source": [
    "from sklearn.metrics import accuracy_score\n",
    "y_pred = voting_clf.predict(mnist_test_data_scale)\n",
    "accuracy_score(mnist_test_target, y_pred)"
   ]
  },
  {
   "cell_type": "markdown",
   "metadata": {},
   "source": [
    "* 0.99"
   ]
  }
 ],
 "metadata": {
  "kernelspec": {
   "display_name": "Python 3",
   "language": "python",
   "name": "python3"
  },
  "language_info": {
   "codemirror_mode": {
    "name": "ipython",
    "version": 3
   },
   "file_extension": ".py",
   "mimetype": "text/x-python",
   "name": "python",
   "nbconvert_exporter": "python",
   "pygments_lexer": "ipython3",
   "version": "3.7.7"
  }
 },
 "nbformat": 4,
 "nbformat_minor": 2
}
