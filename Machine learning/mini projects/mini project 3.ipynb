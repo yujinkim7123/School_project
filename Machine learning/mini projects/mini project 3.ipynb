{
 "cells": [
  {
   "cell_type": "code",
   "execution_count": 108,
   "metadata": {},
   "outputs": [],
   "source": [
    "import pandas as pd\n",
    "housing_test = pd.read_csv('kc_house_data_test.csv')\n",
    "housing_train = pd.read_csv('kc_house_data_train.csv') \n",
    "#엑셀 다운로드"
   ]
  },
  {
   "cell_type": "code",
   "execution_count": 110,
   "metadata": {},
   "outputs": [
    {
     "data": {
      "text/html": [
       "<div>\n",
       "<style scoped>\n",
       "    .dataframe tbody tr th:only-of-type {\n",
       "        vertical-align: middle;\n",
       "    }\n",
       "\n",
       "    .dataframe tbody tr th {\n",
       "        vertical-align: top;\n",
       "    }\n",
       "\n",
       "    .dataframe thead th {\n",
       "        text-align: right;\n",
       "    }\n",
       "</style>\n",
       "<table border=\"1\" class=\"dataframe\">\n",
       "  <thead>\n",
       "    <tr style=\"text-align: right;\">\n",
       "      <th></th>\n",
       "      <th>ix</th>\n",
       "      <th>id</th>\n",
       "      <th>price</th>\n",
       "      <th>bedrooms</th>\n",
       "      <th>bathrooms</th>\n",
       "      <th>sqft_living</th>\n",
       "      <th>sqft_lot</th>\n",
       "      <th>floors</th>\n",
       "      <th>waterfront</th>\n",
       "      <th>view</th>\n",
       "      <th>...</th>\n",
       "      <th>grade</th>\n",
       "      <th>sqft_above</th>\n",
       "      <th>sqft_basement</th>\n",
       "      <th>yr_built</th>\n",
       "      <th>yr_renovated</th>\n",
       "      <th>zipcode</th>\n",
       "      <th>lat</th>\n",
       "      <th>long</th>\n",
       "      <th>sqft_living15</th>\n",
       "      <th>sqft_lot15</th>\n",
       "    </tr>\n",
       "  </thead>\n",
       "  <tbody>\n",
       "    <tr>\n",
       "      <th>ix</th>\n",
       "      <td>1.000000</td>\n",
       "      <td>0.004747</td>\n",
       "      <td>0.031026</td>\n",
       "      <td>0.014371</td>\n",
       "      <td>0.109762</td>\n",
       "      <td>0.048098</td>\n",
       "      <td>-0.025531</td>\n",
       "      <td>0.184224</td>\n",
       "      <td>-0.006115</td>\n",
       "      <td>-0.009306</td>\n",
       "      <td>...</td>\n",
       "      <td>0.082177</td>\n",
       "      <td>0.075960</td>\n",
       "      <td>-0.042786</td>\n",
       "      <td>0.200172</td>\n",
       "      <td>-0.025761</td>\n",
       "      <td>-0.000627</td>\n",
       "      <td>-0.002778</td>\n",
       "      <td>0.005671</td>\n",
       "      <td>0.029892</td>\n",
       "      <td>-0.029279</td>\n",
       "    </tr>\n",
       "    <tr>\n",
       "      <th>id</th>\n",
       "      <td>0.004747</td>\n",
       "      <td>1.000000</td>\n",
       "      <td>-0.020623</td>\n",
       "      <td>0.005557</td>\n",
       "      <td>0.007887</td>\n",
       "      <td>-0.012010</td>\n",
       "      <td>-0.138542</td>\n",
       "      <td>0.018736</td>\n",
       "      <td>-0.007907</td>\n",
       "      <td>0.007141</td>\n",
       "      <td>...</td>\n",
       "      <td>0.010694</td>\n",
       "      <td>-0.007584</td>\n",
       "      <td>-0.010635</td>\n",
       "      <td>0.028905</td>\n",
       "      <td>-0.020092</td>\n",
       "      <td>-0.009243</td>\n",
       "      <td>-0.008768</td>\n",
       "      <td>0.021854</td>\n",
       "      <td>-0.003013</td>\n",
       "      <td>-0.142291</td>\n",
       "    </tr>\n",
       "    <tr>\n",
       "      <th>price</th>\n",
       "      <td>0.031026</td>\n",
       "      <td>-0.020623</td>\n",
       "      <td>1.000000</td>\n",
       "      <td>0.308262</td>\n",
       "      <td>0.526618</td>\n",
       "      <td>0.701701</td>\n",
       "      <td>0.091039</td>\n",
       "      <td>0.253425</td>\n",
       "      <td>0.252946</td>\n",
       "      <td>0.392108</td>\n",
       "      <td>...</td>\n",
       "      <td>0.665093</td>\n",
       "      <td>0.603255</td>\n",
       "      <td>0.321387</td>\n",
       "      <td>0.049100</td>\n",
       "      <td>0.127737</td>\n",
       "      <td>-0.053803</td>\n",
       "      <td>0.310770</td>\n",
       "      <td>0.023486</td>\n",
       "      <td>0.582667</td>\n",
       "      <td>0.079152</td>\n",
       "    </tr>\n",
       "    <tr>\n",
       "      <th>bedrooms</th>\n",
       "      <td>0.014371</td>\n",
       "      <td>0.005557</td>\n",
       "      <td>0.308262</td>\n",
       "      <td>1.000000</td>\n",
       "      <td>0.515266</td>\n",
       "      <td>0.575048</td>\n",
       "      <td>0.031054</td>\n",
       "      <td>0.172962</td>\n",
       "      <td>-0.010044</td>\n",
       "      <td>0.070176</td>\n",
       "      <td>...</td>\n",
       "      <td>0.353513</td>\n",
       "      <td>0.474386</td>\n",
       "      <td>0.300806</td>\n",
       "      <td>0.148824</td>\n",
       "      <td>0.020915</td>\n",
       "      <td>-0.152708</td>\n",
       "      <td>-0.013322</td>\n",
       "      <td>0.126010</td>\n",
       "      <td>0.386209</td>\n",
       "      <td>0.023625</td>\n",
       "    </tr>\n",
       "    <tr>\n",
       "      <th>bathrooms</th>\n",
       "      <td>0.109762</td>\n",
       "      <td>0.007887</td>\n",
       "      <td>0.526618</td>\n",
       "      <td>0.515266</td>\n",
       "      <td>1.000000</td>\n",
       "      <td>0.752745</td>\n",
       "      <td>0.086344</td>\n",
       "      <td>0.504126</td>\n",
       "      <td>0.063145</td>\n",
       "      <td>0.179657</td>\n",
       "      <td>...</td>\n",
       "      <td>0.664407</td>\n",
       "      <td>0.683303</td>\n",
       "      <td>0.277038</td>\n",
       "      <td>0.505649</td>\n",
       "      <td>0.051332</td>\n",
       "      <td>-0.202922</td>\n",
       "      <td>0.026761</td>\n",
       "      <td>0.221848</td>\n",
       "      <td>0.563438</td>\n",
       "      <td>0.079958</td>\n",
       "    </tr>\n",
       "    <tr>\n",
       "      <th>sqft_living</th>\n",
       "      <td>0.048098</td>\n",
       "      <td>-0.012010</td>\n",
       "      <td>0.701701</td>\n",
       "      <td>0.575048</td>\n",
       "      <td>0.752745</td>\n",
       "      <td>1.000000</td>\n",
       "      <td>0.176264</td>\n",
       "      <td>0.348917</td>\n",
       "      <td>0.095543</td>\n",
       "      <td>0.275554</td>\n",
       "      <td>...</td>\n",
       "      <td>0.760652</td>\n",
       "      <td>0.875820</td>\n",
       "      <td>0.427831</td>\n",
       "      <td>0.315848</td>\n",
       "      <td>0.054880</td>\n",
       "      <td>-0.203540</td>\n",
       "      <td>0.053920</td>\n",
       "      <td>0.242701</td>\n",
       "      <td>0.754904</td>\n",
       "      <td>0.174895</td>\n",
       "    </tr>\n",
       "    <tr>\n",
       "      <th>sqft_lot</th>\n",
       "      <td>-0.025531</td>\n",
       "      <td>-0.138542</td>\n",
       "      <td>0.091039</td>\n",
       "      <td>0.031054</td>\n",
       "      <td>0.086344</td>\n",
       "      <td>0.176264</td>\n",
       "      <td>1.000000</td>\n",
       "      <td>-0.004670</td>\n",
       "      <td>0.027354</td>\n",
       "      <td>0.061524</td>\n",
       "      <td>...</td>\n",
       "      <td>0.116535</td>\n",
       "      <td>0.187159</td>\n",
       "      <td>0.014017</td>\n",
       "      <td>0.051956</td>\n",
       "      <td>0.015425</td>\n",
       "      <td>-0.135121</td>\n",
       "      <td>-0.078886</td>\n",
       "      <td>0.240164</td>\n",
       "      <td>0.151801</td>\n",
       "      <td>0.734932</td>\n",
       "    </tr>\n",
       "    <tr>\n",
       "      <th>floors</th>\n",
       "      <td>0.184224</td>\n",
       "      <td>0.018736</td>\n",
       "      <td>0.253425</td>\n",
       "      <td>0.172962</td>\n",
       "      <td>0.504126</td>\n",
       "      <td>0.348917</td>\n",
       "      <td>-0.004670</td>\n",
       "      <td>1.000000</td>\n",
       "      <td>0.018441</td>\n",
       "      <td>0.027260</td>\n",
       "      <td>...</td>\n",
       "      <td>0.457274</td>\n",
       "      <td>0.518214</td>\n",
       "      <td>-0.248916</td>\n",
       "      <td>0.495168</td>\n",
       "      <td>0.005480</td>\n",
       "      <td>-0.054722</td>\n",
       "      <td>0.054014</td>\n",
       "      <td>0.121500</td>\n",
       "      <td>0.271551</td>\n",
       "      <td>-0.012202</td>\n",
       "    </tr>\n",
       "    <tr>\n",
       "      <th>waterfront</th>\n",
       "      <td>-0.006115</td>\n",
       "      <td>-0.007907</td>\n",
       "      <td>0.252946</td>\n",
       "      <td>-0.010044</td>\n",
       "      <td>0.063145</td>\n",
       "      <td>0.095543</td>\n",
       "      <td>0.027354</td>\n",
       "      <td>0.018441</td>\n",
       "      <td>1.000000</td>\n",
       "      <td>0.390616</td>\n",
       "      <td>...</td>\n",
       "      <td>0.070820</td>\n",
       "      <td>0.063283</td>\n",
       "      <td>0.079072</td>\n",
       "      <td>-0.030817</td>\n",
       "      <td>0.088378</td>\n",
       "      <td>0.026815</td>\n",
       "      <td>-0.018784</td>\n",
       "      <td>-0.043843</td>\n",
       "      <td>0.075609</td>\n",
       "      <td>0.032785</td>\n",
       "    </tr>\n",
       "    <tr>\n",
       "      <th>view</th>\n",
       "      <td>-0.009306</td>\n",
       "      <td>0.007141</td>\n",
       "      <td>0.392108</td>\n",
       "      <td>0.070176</td>\n",
       "      <td>0.179657</td>\n",
       "      <td>0.275554</td>\n",
       "      <td>0.061524</td>\n",
       "      <td>0.027260</td>\n",
       "      <td>0.390616</td>\n",
       "      <td>1.000000</td>\n",
       "      <td>...</td>\n",
       "      <td>0.244440</td>\n",
       "      <td>0.159612</td>\n",
       "      <td>0.270938</td>\n",
       "      <td>-0.058776</td>\n",
       "      <td>0.100026</td>\n",
       "      <td>0.084540</td>\n",
       "      <td>0.005750</td>\n",
       "      <td>-0.086336</td>\n",
       "      <td>0.276378</td>\n",
       "      <td>0.063760</td>\n",
       "    </tr>\n",
       "    <tr>\n",
       "      <th>condition</th>\n",
       "      <td>-0.096804</td>\n",
       "      <td>-0.026996</td>\n",
       "      <td>0.036344</td>\n",
       "      <td>0.028185</td>\n",
       "      <td>-0.124764</td>\n",
       "      <td>-0.056163</td>\n",
       "      <td>-0.010531</td>\n",
       "      <td>-0.268652</td>\n",
       "      <td>0.017313</td>\n",
       "      <td>0.048571</td>\n",
       "      <td>...</td>\n",
       "      <td>-0.143680</td>\n",
       "      <td>-0.158199</td>\n",
       "      <td>0.180120</td>\n",
       "      <td>-0.361492</td>\n",
       "      <td>-0.061802</td>\n",
       "      <td>0.003919</td>\n",
       "      <td>-0.018660</td>\n",
       "      <td>-0.109123</td>\n",
       "      <td>-0.094194</td>\n",
       "      <td>-0.006322</td>\n",
       "    </tr>\n",
       "    <tr>\n",
       "      <th>grade</th>\n",
       "      <td>0.082177</td>\n",
       "      <td>0.010694</td>\n",
       "      <td>0.665093</td>\n",
       "      <td>0.353513</td>\n",
       "      <td>0.664407</td>\n",
       "      <td>0.760652</td>\n",
       "      <td>0.116535</td>\n",
       "      <td>0.457274</td>\n",
       "      <td>0.070820</td>\n",
       "      <td>0.244440</td>\n",
       "      <td>...</td>\n",
       "      <td>1.000000</td>\n",
       "      <td>0.752990</td>\n",
       "      <td>0.162885</td>\n",
       "      <td>0.447234</td>\n",
       "      <td>0.013731</td>\n",
       "      <td>-0.182515</td>\n",
       "      <td>0.118808</td>\n",
       "      <td>0.197489</td>\n",
       "      <td>0.707253</td>\n",
       "      <td>0.114337</td>\n",
       "    </tr>\n",
       "    <tr>\n",
       "      <th>sqft_above</th>\n",
       "      <td>0.075960</td>\n",
       "      <td>-0.007584</td>\n",
       "      <td>0.603255</td>\n",
       "      <td>0.474386</td>\n",
       "      <td>0.683303</td>\n",
       "      <td>0.875820</td>\n",
       "      <td>0.187159</td>\n",
       "      <td>0.518214</td>\n",
       "      <td>0.063283</td>\n",
       "      <td>0.159612</td>\n",
       "      <td>...</td>\n",
       "      <td>0.752990</td>\n",
       "      <td>1.000000</td>\n",
       "      <td>-0.061533</td>\n",
       "      <td>0.423524</td>\n",
       "      <td>0.021762</td>\n",
       "      <td>-0.264291</td>\n",
       "      <td>-0.000946</td>\n",
       "      <td>0.347579</td>\n",
       "      <td>0.729165</td>\n",
       "      <td>0.187337</td>\n",
       "    </tr>\n",
       "    <tr>\n",
       "      <th>sqft_basement</th>\n",
       "      <td>-0.042786</td>\n",
       "      <td>-0.010635</td>\n",
       "      <td>0.321387</td>\n",
       "      <td>0.300806</td>\n",
       "      <td>0.277038</td>\n",
       "      <td>0.427831</td>\n",
       "      <td>0.014017</td>\n",
       "      <td>-0.248916</td>\n",
       "      <td>0.079072</td>\n",
       "      <td>0.270938</td>\n",
       "      <td>...</td>\n",
       "      <td>0.162885</td>\n",
       "      <td>-0.061533</td>\n",
       "      <td>1.000000</td>\n",
       "      <td>-0.139974</td>\n",
       "      <td>0.072738</td>\n",
       "      <td>0.074025</td>\n",
       "      <td>0.113279</td>\n",
       "      <td>-0.149018</td>\n",
       "      <td>0.195614</td>\n",
       "      <td>0.010850</td>\n",
       "    </tr>\n",
       "    <tr>\n",
       "      <th>yr_built</th>\n",
       "      <td>0.200172</td>\n",
       "      <td>0.028905</td>\n",
       "      <td>0.049100</td>\n",
       "      <td>0.148824</td>\n",
       "      <td>0.505649</td>\n",
       "      <td>0.315848</td>\n",
       "      <td>0.051956</td>\n",
       "      <td>0.495168</td>\n",
       "      <td>-0.030817</td>\n",
       "      <td>-0.058776</td>\n",
       "      <td>...</td>\n",
       "      <td>0.447234</td>\n",
       "      <td>0.423524</td>\n",
       "      <td>-0.139974</td>\n",
       "      <td>1.000000</td>\n",
       "      <td>-0.225243</td>\n",
       "      <td>-0.342115</td>\n",
       "      <td>-0.146323</td>\n",
       "      <td>0.411004</td>\n",
       "      <td>0.323467</td>\n",
       "      <td>0.067064</td>\n",
       "    </tr>\n",
       "    <tr>\n",
       "      <th>yr_renovated</th>\n",
       "      <td>-0.025761</td>\n",
       "      <td>-0.020092</td>\n",
       "      <td>0.127737</td>\n",
       "      <td>0.020915</td>\n",
       "      <td>0.051332</td>\n",
       "      <td>0.054880</td>\n",
       "      <td>0.015425</td>\n",
       "      <td>0.005480</td>\n",
       "      <td>0.088378</td>\n",
       "      <td>0.100026</td>\n",
       "      <td>...</td>\n",
       "      <td>0.013731</td>\n",
       "      <td>0.021762</td>\n",
       "      <td>0.072738</td>\n",
       "      <td>-0.225243</td>\n",
       "      <td>1.000000</td>\n",
       "      <td>0.061216</td>\n",
       "      <td>0.030460</td>\n",
       "      <td>-0.066744</td>\n",
       "      <td>-0.002741</td>\n",
       "      <td>0.014449</td>\n",
       "    </tr>\n",
       "    <tr>\n",
       "      <th>zipcode</th>\n",
       "      <td>-0.000627</td>\n",
       "      <td>-0.009243</td>\n",
       "      <td>-0.053803</td>\n",
       "      <td>-0.152708</td>\n",
       "      <td>-0.202922</td>\n",
       "      <td>-0.203540</td>\n",
       "      <td>-0.135121</td>\n",
       "      <td>-0.054722</td>\n",
       "      <td>0.026815</td>\n",
       "      <td>0.084540</td>\n",
       "      <td>...</td>\n",
       "      <td>-0.182515</td>\n",
       "      <td>-0.264291</td>\n",
       "      <td>0.074025</td>\n",
       "      <td>-0.342115</td>\n",
       "      <td>0.061216</td>\n",
       "      <td>1.000000</td>\n",
       "      <td>0.266764</td>\n",
       "      <td>-0.565721</td>\n",
       "      <td>-0.282330</td>\n",
       "      <td>-0.147142</td>\n",
       "    </tr>\n",
       "    <tr>\n",
       "      <th>lat</th>\n",
       "      <td>-0.002778</td>\n",
       "      <td>-0.008768</td>\n",
       "      <td>0.310770</td>\n",
       "      <td>-0.013322</td>\n",
       "      <td>0.026761</td>\n",
       "      <td>0.053920</td>\n",
       "      <td>-0.078886</td>\n",
       "      <td>0.054014</td>\n",
       "      <td>-0.018784</td>\n",
       "      <td>0.005750</td>\n",
       "      <td>...</td>\n",
       "      <td>0.118808</td>\n",
       "      <td>-0.000946</td>\n",
       "      <td>0.113279</td>\n",
       "      <td>-0.146323</td>\n",
       "      <td>0.030460</td>\n",
       "      <td>0.266764</td>\n",
       "      <td>1.000000</td>\n",
       "      <td>-0.137035</td>\n",
       "      <td>0.050842</td>\n",
       "      <td>-0.081055</td>\n",
       "    </tr>\n",
       "    <tr>\n",
       "      <th>long</th>\n",
       "      <td>0.005671</td>\n",
       "      <td>0.021854</td>\n",
       "      <td>0.023486</td>\n",
       "      <td>0.126010</td>\n",
       "      <td>0.221848</td>\n",
       "      <td>0.242701</td>\n",
       "      <td>0.240164</td>\n",
       "      <td>0.121500</td>\n",
       "      <td>-0.043843</td>\n",
       "      <td>-0.086336</td>\n",
       "      <td>...</td>\n",
       "      <td>0.197489</td>\n",
       "      <td>0.347579</td>\n",
       "      <td>-0.149018</td>\n",
       "      <td>0.411004</td>\n",
       "      <td>-0.066744</td>\n",
       "      <td>-0.565721</td>\n",
       "      <td>-0.137035</td>\n",
       "      <td>1.000000</td>\n",
       "      <td>0.339795</td>\n",
       "      <td>0.252182</td>\n",
       "    </tr>\n",
       "    <tr>\n",
       "      <th>sqft_living15</th>\n",
       "      <td>0.029892</td>\n",
       "      <td>-0.003013</td>\n",
       "      <td>0.582667</td>\n",
       "      <td>0.386209</td>\n",
       "      <td>0.563438</td>\n",
       "      <td>0.754904</td>\n",
       "      <td>0.151801</td>\n",
       "      <td>0.271551</td>\n",
       "      <td>0.075609</td>\n",
       "      <td>0.276378</td>\n",
       "      <td>...</td>\n",
       "      <td>0.707253</td>\n",
       "      <td>0.729165</td>\n",
       "      <td>0.195614</td>\n",
       "      <td>0.323467</td>\n",
       "      <td>-0.002741</td>\n",
       "      <td>-0.282330</td>\n",
       "      <td>0.050842</td>\n",
       "      <td>0.339795</td>\n",
       "      <td>1.000000</td>\n",
       "      <td>0.177027</td>\n",
       "    </tr>\n",
       "    <tr>\n",
       "      <th>sqft_lot15</th>\n",
       "      <td>-0.029279</td>\n",
       "      <td>-0.142291</td>\n",
       "      <td>0.079152</td>\n",
       "      <td>0.023625</td>\n",
       "      <td>0.079958</td>\n",
       "      <td>0.174895</td>\n",
       "      <td>0.734932</td>\n",
       "      <td>-0.012202</td>\n",
       "      <td>0.032785</td>\n",
       "      <td>0.063760</td>\n",
       "      <td>...</td>\n",
       "      <td>0.114337</td>\n",
       "      <td>0.187337</td>\n",
       "      <td>0.010850</td>\n",
       "      <td>0.067064</td>\n",
       "      <td>0.014449</td>\n",
       "      <td>-0.147142</td>\n",
       "      <td>-0.081055</td>\n",
       "      <td>0.252182</td>\n",
       "      <td>0.177027</td>\n",
       "      <td>1.000000</td>\n",
       "    </tr>\n",
       "  </tbody>\n",
       "</table>\n",
       "<p>21 rows × 21 columns</p>\n",
       "</div>"
      ],
      "text/plain": [
       "                     ix        id     price  bedrooms  bathrooms  sqft_living  \\\n",
       "ix             1.000000  0.004747  0.031026  0.014371   0.109762     0.048098   \n",
       "id             0.004747  1.000000 -0.020623  0.005557   0.007887    -0.012010   \n",
       "price          0.031026 -0.020623  1.000000  0.308262   0.526618     0.701701   \n",
       "bedrooms       0.014371  0.005557  0.308262  1.000000   0.515266     0.575048   \n",
       "bathrooms      0.109762  0.007887  0.526618  0.515266   1.000000     0.752745   \n",
       "sqft_living    0.048098 -0.012010  0.701701  0.575048   0.752745     1.000000   \n",
       "sqft_lot      -0.025531 -0.138542  0.091039  0.031054   0.086344     0.176264   \n",
       "floors         0.184224  0.018736  0.253425  0.172962   0.504126     0.348917   \n",
       "waterfront    -0.006115 -0.007907  0.252946 -0.010044   0.063145     0.095543   \n",
       "view          -0.009306  0.007141  0.392108  0.070176   0.179657     0.275554   \n",
       "condition     -0.096804 -0.026996  0.036344  0.028185  -0.124764    -0.056163   \n",
       "grade          0.082177  0.010694  0.665093  0.353513   0.664407     0.760652   \n",
       "sqft_above     0.075960 -0.007584  0.603255  0.474386   0.683303     0.875820   \n",
       "sqft_basement -0.042786 -0.010635  0.321387  0.300806   0.277038     0.427831   \n",
       "yr_built       0.200172  0.028905  0.049100  0.148824   0.505649     0.315848   \n",
       "yr_renovated  -0.025761 -0.020092  0.127737  0.020915   0.051332     0.054880   \n",
       "zipcode       -0.000627 -0.009243 -0.053803 -0.152708  -0.202922    -0.203540   \n",
       "lat           -0.002778 -0.008768  0.310770 -0.013322   0.026761     0.053920   \n",
       "long           0.005671  0.021854  0.023486  0.126010   0.221848     0.242701   \n",
       "sqft_living15  0.029892 -0.003013  0.582667  0.386209   0.563438     0.754904   \n",
       "sqft_lot15    -0.029279 -0.142291  0.079152  0.023625   0.079958     0.174895   \n",
       "\n",
       "               sqft_lot    floors  waterfront      view  ...     grade  \\\n",
       "ix            -0.025531  0.184224   -0.006115 -0.009306  ...  0.082177   \n",
       "id            -0.138542  0.018736   -0.007907  0.007141  ...  0.010694   \n",
       "price          0.091039  0.253425    0.252946  0.392108  ...  0.665093   \n",
       "bedrooms       0.031054  0.172962   -0.010044  0.070176  ...  0.353513   \n",
       "bathrooms      0.086344  0.504126    0.063145  0.179657  ...  0.664407   \n",
       "sqft_living    0.176264  0.348917    0.095543  0.275554  ...  0.760652   \n",
       "sqft_lot       1.000000 -0.004670    0.027354  0.061524  ...  0.116535   \n",
       "floors        -0.004670  1.000000    0.018441  0.027260  ...  0.457274   \n",
       "waterfront     0.027354  0.018441    1.000000  0.390616  ...  0.070820   \n",
       "view           0.061524  0.027260    0.390616  1.000000  ...  0.244440   \n",
       "condition     -0.010531 -0.268652    0.017313  0.048571  ... -0.143680   \n",
       "grade          0.116535  0.457274    0.070820  0.244440  ...  1.000000   \n",
       "sqft_above     0.187159  0.518214    0.063283  0.159612  ...  0.752990   \n",
       "sqft_basement  0.014017 -0.248916    0.079072  0.270938  ...  0.162885   \n",
       "yr_built       0.051956  0.495168   -0.030817 -0.058776  ...  0.447234   \n",
       "yr_renovated   0.015425  0.005480    0.088378  0.100026  ...  0.013731   \n",
       "zipcode       -0.135121 -0.054722    0.026815  0.084540  ... -0.182515   \n",
       "lat           -0.078886  0.054014   -0.018784  0.005750  ...  0.118808   \n",
       "long           0.240164  0.121500   -0.043843 -0.086336  ...  0.197489   \n",
       "sqft_living15  0.151801  0.271551    0.075609  0.276378  ...  0.707253   \n",
       "sqft_lot15     0.734932 -0.012202    0.032785  0.063760  ...  0.114337   \n",
       "\n",
       "               sqft_above  sqft_basement  yr_built  yr_renovated   zipcode  \\\n",
       "ix               0.075960      -0.042786  0.200172     -0.025761 -0.000627   \n",
       "id              -0.007584      -0.010635  0.028905     -0.020092 -0.009243   \n",
       "price            0.603255       0.321387  0.049100      0.127737 -0.053803   \n",
       "bedrooms         0.474386       0.300806  0.148824      0.020915 -0.152708   \n",
       "bathrooms        0.683303       0.277038  0.505649      0.051332 -0.202922   \n",
       "sqft_living      0.875820       0.427831  0.315848      0.054880 -0.203540   \n",
       "sqft_lot         0.187159       0.014017  0.051956      0.015425 -0.135121   \n",
       "floors           0.518214      -0.248916  0.495168      0.005480 -0.054722   \n",
       "waterfront       0.063283       0.079072 -0.030817      0.088378  0.026815   \n",
       "view             0.159612       0.270938 -0.058776      0.100026  0.084540   \n",
       "condition       -0.158199       0.180120 -0.361492     -0.061802  0.003919   \n",
       "grade            0.752990       0.162885  0.447234      0.013731 -0.182515   \n",
       "sqft_above       1.000000      -0.061533  0.423524      0.021762 -0.264291   \n",
       "sqft_basement   -0.061533       1.000000 -0.139974      0.072738  0.074025   \n",
       "yr_built         0.423524      -0.139974  1.000000     -0.225243 -0.342115   \n",
       "yr_renovated     0.021762       0.072738 -0.225243      1.000000  0.061216   \n",
       "zipcode         -0.264291       0.074025 -0.342115      0.061216  1.000000   \n",
       "lat             -0.000946       0.113279 -0.146323      0.030460  0.266764   \n",
       "long             0.347579      -0.149018  0.411004     -0.066744 -0.565721   \n",
       "sqft_living15    0.729165       0.195614  0.323467     -0.002741 -0.282330   \n",
       "sqft_lot15       0.187337       0.010850  0.067064      0.014449 -0.147142   \n",
       "\n",
       "                    lat      long  sqft_living15  sqft_lot15  \n",
       "ix            -0.002778  0.005671       0.029892   -0.029279  \n",
       "id            -0.008768  0.021854      -0.003013   -0.142291  \n",
       "price          0.310770  0.023486       0.582667    0.079152  \n",
       "bedrooms      -0.013322  0.126010       0.386209    0.023625  \n",
       "bathrooms      0.026761  0.221848       0.563438    0.079958  \n",
       "sqft_living    0.053920  0.242701       0.754904    0.174895  \n",
       "sqft_lot      -0.078886  0.240164       0.151801    0.734932  \n",
       "floors         0.054014  0.121500       0.271551   -0.012202  \n",
       "waterfront    -0.018784 -0.043843       0.075609    0.032785  \n",
       "view           0.005750 -0.086336       0.276378    0.063760  \n",
       "condition     -0.018660 -0.109123      -0.094194   -0.006322  \n",
       "grade          0.118808  0.197489       0.707253    0.114337  \n",
       "sqft_above    -0.000946  0.347579       0.729165    0.187337  \n",
       "sqft_basement  0.113279 -0.149018       0.195614    0.010850  \n",
       "yr_built      -0.146323  0.411004       0.323467    0.067064  \n",
       "yr_renovated   0.030460 -0.066744      -0.002741    0.014449  \n",
       "zipcode        0.266764 -0.565721      -0.282330   -0.147142  \n",
       "lat            1.000000 -0.137035       0.050842   -0.081055  \n",
       "long          -0.137035  1.000000       0.339795    0.252182  \n",
       "sqft_living15  0.050842  0.339795       1.000000    0.177027  \n",
       "sqft_lot15    -0.081055  0.252182       0.177027    1.000000  \n",
       "\n",
       "[21 rows x 21 columns]"
      ]
     },
     "execution_count": 110,
     "metadata": {},
     "output_type": "execute_result"
    }
   ],
   "source": [
    "corr_matrix = housing_train.corr()\n",
    "corr_matrix"
   ]
  },
  {
   "cell_type": "markdown",
   "metadata": {},
   "source": [
    "# Feature Engineering"
   ]
  },
  {
   "cell_type": "code",
   "execution_count": 112,
   "metadata": {},
   "outputs": [],
   "source": [
    "#housing_train[\"x4\"] = (housing_train[\"sqft_living\"]*housing_train[\"grade\"]).astype(float)\n",
    "#housing_train[\"y6\"] = (housing_train[\"sqft_living15\"]*housing_train[\"sqft_living\"]).astype(float)\n",
    "\n",
    "#housing_test[\"x4\"] = (housing_test[\"sqft_living\"]*housing_test[\"grade\"]).astype(float)\n",
    "#housing_test[\"y6\"] = (housing_test[\"sqft_living15\"]*housing_test[\"sqft_living\"]).astype(float)"
   ]
  },
  {
   "cell_type": "code",
   "execution_count": 114,
   "metadata": {},
   "outputs": [
    {
     "data": {
      "text/plain": [
       "price            1.000000\n",
       "sqft_living      0.701701\n",
       "grade            0.665093\n",
       "sqft_above       0.603255\n",
       "sqft_living15    0.582667\n",
       "bathrooms        0.526618\n",
       "view             0.392108\n",
       "sqft_basement    0.321387\n",
       "lat              0.310770\n",
       "bedrooms         0.308262\n",
       "floors           0.253425\n",
       "waterfront       0.252946\n",
       "yr_renovated     0.127737\n",
       "sqft_lot         0.091039\n",
       "sqft_lot15       0.079152\n",
       "yr_built         0.049100\n",
       "condition        0.036344\n",
       "ix               0.031026\n",
       "long             0.023486\n",
       "id              -0.020623\n",
       "zipcode         -0.053803\n",
       "Name: price, dtype: float64"
      ]
     },
     "execution_count": 114,
     "metadata": {},
     "output_type": "execute_result"
    }
   ],
   "source": [
    "corr_matrix = housing_train.corr()\n",
    "corr_matrix[\"price\"].sort_values(ascending=False)"
   ]
  },
  {
   "cell_type": "code",
   "execution_count": 116,
   "metadata": {},
   "outputs": [],
   "source": [
    "housing = housing_train.drop(\"price\", axis=1) \n",
    "housing = housing.drop(\"date\", axis=1)\n",
    "housing = housing.drop(\"id\", axis=1)\n",
    "housing_labels = housing_train[\"price\"].copy()\n",
    "\n",
    "test = housing_test.drop(\"price\", axis=1) \n",
    "test = test.drop(\"date\", axis=1) \n",
    "test= test.drop(\"id\", axis=1)\n",
    "test_labels = housing_test[\"price\"].copy()"
   ]
  },
  {
   "cell_type": "markdown",
   "metadata": {},
   "source": [
    "# Feature Scaling"
   ]
  },
  {
   "cell_type": "code",
   "execution_count": 118,
   "metadata": {},
   "outputs": [],
   "source": [
    "from sklearn.preprocessing import StandardScaler\n",
    "import numpy as np\n",
    "scaler = StandardScaler()\n",
    "house_scale = scaler.fit_transform(housing)\n",
    "test_scale  = scaler.transform(test)"
   ]
  },
  {
   "cell_type": "markdown",
   "metadata": {},
   "source": [
    "# TrainMode"
   ]
  },
  {
   "cell_type": "markdown",
   "metadata": {},
   "source": [
    "## linear regression"
   ]
  },
  {
   "cell_type": "code",
   "execution_count": 120,
   "metadata": {},
   "outputs": [
    {
     "data": {
      "text/plain": [
       "'from sklearn.linear_model import LinearRegression\\n\\nlin_reg = LinearRegression()\\nlin_reg.fit(housing, housing_labels)'"
      ]
     },
     "execution_count": 120,
     "metadata": {},
     "output_type": "execute_result"
    }
   ],
   "source": [
    "'''from sklearn.linear_model import LinearRegression\n",
    "\n",
    "lin_reg = LinearRegression()\n",
    "lin_reg.fit(housing, housing_labels)'''"
   ]
  },
  {
   "cell_type": "markdown",
   "metadata": {},
   "source": [
    "##  DecisionTree"
   ]
  },
  {
   "cell_type": "code",
   "execution_count": 122,
   "metadata": {},
   "outputs": [
    {
     "data": {
      "text/plain": [
       "'from sklearn.tree import DecisionTreeRegressor\\ntree_reg = DecisionTreeRegressor(max_depth= 40, random_state=42)\\ntree_reg.fit(house_scale, housing_labels)'"
      ]
     },
     "execution_count": 122,
     "metadata": {},
     "output_type": "execute_result"
    }
   ],
   "source": [
    "'''from sklearn.tree import DecisionTreeRegressor\n",
    "tree_reg = DecisionTreeRegressor(max_depth= 40, random_state=42)\n",
    "tree_reg.fit(house_scale, housing_labels)'''"
   ]
  },
  {
   "cell_type": "markdown",
   "metadata": {},
   "source": [
    "* max_depth 30: 217874.26323724352\n",
    "* max_depth 40: 202198.65526993593\n",
    "*  스케일링 : 216677.95760732266"
   ]
  },
  {
   "cell_type": "markdown",
   "metadata": {},
   "source": [
    "## RandomForest"
   ]
  },
  {
   "cell_type": "code",
   "execution_count": 124,
   "metadata": {},
   "outputs": [
    {
     "data": {
      "text/plain": [
       "'from sklearn.ensemble import RandomForestRegressor\\nforest_reg = RandomForestRegressor(n_estimators= 1791, max_depth=19, n_jobs=-1, random_state=42)\\nforest_reg.fit(housing, housing_labels)'"
      ]
     },
     "execution_count": 124,
     "metadata": {},
     "output_type": "execute_result"
    }
   ],
   "source": [
    "'''from sklearn.ensemble import RandomForestRegressor\n",
    "forest_reg = RandomForestRegressor(n_estimators= 1791, max_depth=19, n_jobs=-1, random_state=42)\n",
    "forest_reg.fit(housing, housing_labels)'''"
   ]
  },
  {
   "cell_type": "markdown",
   "metadata": {},
   "source": [
    "* n_estimators 200: 144078.19773563684\n",
    "* n_estimators=800  143405.6611183974\n",
    "* n_estimators=1000 143546.6070447674"
   ]
  },
  {
   "cell_type": "markdown",
   "metadata": {},
   "source": [
    "##  ExtraTreesRegressor"
   ]
  },
  {
   "cell_type": "code",
   "execution_count": 126,
   "metadata": {},
   "outputs": [
    {
     "data": {
      "text/plain": [
       "'from sklearn.ensemble import ExtraTreesRegressor\\nextra_trees_reg = ExtraTreesRegressor(n_estimators=1791, random_state=42)\\nextra_trees_reg.fit(housing, housing_labels)'"
      ]
     },
     "execution_count": 126,
     "metadata": {},
     "output_type": "execute_result"
    }
   ],
   "source": [
    "'''from sklearn.ensemble import ExtraTreesRegressor\n",
    "extra_trees_reg = ExtraTreesRegressor(n_estimators=1791, random_state=42)\n",
    "extra_trees_reg.fit(housing, housing_labels)'''"
   ]
  },
  {
   "cell_type": "markdown",
   "metadata": {},
   "source": [
    "## svm"
   ]
  },
  {
   "cell_type": "markdown",
   "metadata": {},
   "source": [
    "**1. LinearSVR**"
   ]
  },
  {
   "cell_type": "code",
   "execution_count": 128,
   "metadata": {},
   "outputs": [
    {
     "data": {
      "text/plain": [
       "'from sklearn.svm import LinearSVR\\n\\nsvm_reg = LinearSVR(epsilon=0.5, random_state=42)\\nsvm_reg.fit(house_scale, housing_labels)'"
      ]
     },
     "execution_count": 128,
     "metadata": {},
     "output_type": "execute_result"
    }
   ],
   "source": [
    "'''from sklearn.svm import LinearSVR\n",
    "\n",
    "svm_reg = LinearSVR(epsilon=0.5, random_state=42)\n",
    "svm_reg.fit(house_scale, housing_labels)'''"
   ]
  },
  {
   "cell_type": "markdown",
   "metadata": {},
   "source": [
    "* 1855175\n",
    "* 스케일링 : 659001"
   ]
  },
  {
   "cell_type": "markdown",
   "metadata": {},
   "source": [
    "**2. SVR**"
   ]
  },
  {
   "cell_type": "code",
   "execution_count": 130,
   "metadata": {},
   "outputs": [
    {
     "data": {
      "text/plain": [
       "'from sklearn.svm import SVR\\n\\nsvm_poly_reg = SVR(kernel=\"poly\", degree=1, C=100000, epsilon=0.5, gamma=\"auto\")\\nsvm_poly_reg.fit(house_scale, housing_labels)'"
      ]
     },
     "execution_count": 130,
     "metadata": {},
     "output_type": "execute_result"
    }
   ],
   "source": [
    "'''from sklearn.svm import SVR\n",
    "\n",
    "svm_poly_reg = SVR(kernel=\"poly\", degree=1, C=100000, epsilon=0.5, gamma=\"auto\")\n",
    "svm_poly_reg.fit(house_scale, housing_labels)'''"
   ]
  },
  {
   "cell_type": "markdown",
   "metadata": {},
   "source": [
    "* 2차 334394.95883895695\n",
    "* 3차 385708.0441086143\n",
    "* C 50 358999.56623091735\n",
    "* epsilon 0.2 334394.9766862417\n",
    "* epsilon 0.1 334394.9766862417"
   ]
  },
  {
   "cell_type": "markdown",
   "metadata": {},
   "source": [
    "**2. 다항특성과 LinearSVR(안됨)**"
   ]
  },
  {
   "cell_type": "code",
   "execution_count": 132,
   "metadata": {},
   "outputs": [
    {
     "data": {
      "text/plain": [
       "'from sklearn.pipeline import Pipeline\\nfrom sklearn.svm import LinearSVR\\nfrom sklearn.preprocessing import PolynomialFeatures\\n\\npoly = PolynomialFeatures(3)\\ny = poly.fit_transform(house_scale, y=None)\\npolynomial_svm= LinearSVR(epsilon=1.5, random_state=42)\\npolynomial_svm.fit(house_scale, housing_labels)'"
      ]
     },
     "execution_count": 132,
     "metadata": {},
     "output_type": "execute_result"
    }
   ],
   "source": [
    "'''from sklearn.pipeline import Pipeline\n",
    "from sklearn.svm import LinearSVR\n",
    "from sklearn.preprocessing import PolynomialFeatures\n",
    "\n",
    "poly = PolynomialFeatures(3)\n",
    "y = poly.fit_transform(house_scale, y=None)\n",
    "polynomial_svm= LinearSVR(epsilon=1.5, random_state=42)\n",
    "polynomial_svm.fit(house_scale, housing_labels)'''"
   ]
  },
  {
   "cell_type": "code",
   "execution_count": 134,
   "metadata": {},
   "outputs": [
    {
     "data": {
      "text/plain": [
       "\"from sklearn.svm import SVR\\nrbf_kernel_svm_reg = SVR(kernel='rbf', C=1000, gamma='auto', degree=2)\\nrbf_kernel_svm_reg.fit(house_scale, housing_labels)\""
      ]
     },
     "execution_count": 134,
     "metadata": {},
     "output_type": "execute_result"
    }
   ],
   "source": [
    "'''from sklearn.svm import SVR\n",
    "rbf_kernel_svm_reg = SVR(kernel='rbf', C=1000, gamma='auto', degree=2)\n",
    "rbf_kernel_svm_reg.fit(house_scale, housing_labels)'''"
   ]
  },
  {
   "cell_type": "markdown",
   "metadata": {},
   "source": [
    "## Logistic Regression"
   ]
  },
  {
   "cell_type": "code",
   "execution_count": 136,
   "metadata": {},
   "outputs": [
    {
     "data": {
      "text/plain": [
       "\"from sklearn.linear_model import LogisticRegression\\nlog_reg = LogisticRegression(multi_class='auto', solver='lbfgs' ,random_state=42,  max_iter=2000)\\nlog_reg.fit(house_scale, housing_labels)\""
      ]
     },
     "execution_count": 136,
     "metadata": {},
     "output_type": "execute_result"
    }
   ],
   "source": [
    "'''from sklearn.linear_model import LogisticRegression\n",
    "log_reg = LogisticRegression(multi_class='auto', solver='lbfgs' ,random_state=42,  max_iter=2000)\n",
    "log_reg.fit(house_scale, housing_labels)'''"
   ]
  },
  {
   "cell_type": "markdown",
   "metadata": {},
   "source": [
    "## AdaBoost"
   ]
  },
  {
   "cell_type": "code",
   "execution_count": 138,
   "metadata": {},
   "outputs": [
    {
     "data": {
      "text/plain": [
       "'from sklearn.ensemble import AdaBoostRegressor\\nfrom sklearn.tree import DecisionTreeRegressor\\nada_reg = AdaBoostRegressor(\\n   DecisionTreeRegressor(max_depth=40), n_estimators=1000,\\n     learning_rate=0.1, random_state=42)\\nada_reg.fit(house_scale, housing_labels)'"
      ]
     },
     "execution_count": 138,
     "metadata": {},
     "output_type": "execute_result"
    }
   ],
   "source": [
    "'''from sklearn.ensemble import AdaBoostRegressor\n",
    "from sklearn.tree import DecisionTreeRegressor\n",
    "ada_reg = AdaBoostRegressor(\n",
    "   DecisionTreeRegressor(max_depth=40), n_estimators=1000,\n",
    "     learning_rate=0.1, random_state=42)\n",
    "ada_reg.fit(house_scale, housing_labels)'''"
   ]
  },
  {
   "cell_type": "markdown",
   "metadata": {},
   "source": [
    "## GradientBoost"
   ]
  },
  {
   "cell_type": "code",
   "execution_count": 140,
   "metadata": {},
   "outputs": [
    {
     "data": {
      "text/plain": [
       "GradientBoostingRegressor(alpha=0.9, criterion='friedman_mse', init=None,\n",
       "                          learning_rate=0.1, loss='ls', max_depth=5,\n",
       "                          max_features=None, max_leaf_nodes=None,\n",
       "                          min_impurity_decrease=0.0, min_impurity_split=None,\n",
       "                          min_samples_leaf=1, min_samples_split=2,\n",
       "                          min_weight_fraction_leaf=0.0, n_estimators=35000,\n",
       "                          n_iter_no_change=None, presort='auto',\n",
       "                          random_state=42, subsample=1.0, tol=0.0001,\n",
       "                          validation_fraction=0.1, verbose=0, warm_start=False)"
      ]
     },
     "execution_count": 140,
     "metadata": {},
     "output_type": "execute_result"
    }
   ],
   "source": [
    "import numpy as np\n",
    "from sklearn.ensemble import GradientBoostingRegressor\n",
    "from sklearn.metrics import mean_squared_error\n",
    "\n",
    "gbrt = GradientBoostingRegressor(max_depth=5, n_estimators=35000,random_state=42)\n",
    "gbrt.fit(house_scale, housing_labels)"
   ]
  },
  {
   "cell_type": "markdown",
   "metadata": {},
   "source": [
    "* n_estimators=900,max_depth=5"
   ]
  },
  {
   "cell_type": "markdown",
   "metadata": {},
   "source": [
    "## Voting classifiers"
   ]
  },
  {
   "cell_type": "code",
   "execution_count": 142,
   "metadata": {},
   "outputs": [
    {
     "data": {
      "text/plain": [
       "\"from sklearn.ensemble import VotingRegressor \\nvoting_reg = VotingRegressor (\\n    estimators=[('fc', forest_reg),('gd', gbrt)], n_jobs=-1 )\\nvoting_reg.fit(housing, housing_labels)\""
      ]
     },
     "execution_count": 142,
     "metadata": {},
     "output_type": "execute_result"
    }
   ],
   "source": [
    "'''from sklearn.ensemble import VotingRegressor \n",
    "voting_reg = VotingRegressor (\n",
    "    estimators=[('fc', forest_reg),('gd', gbrt)], n_jobs=-1 )\n",
    "voting_reg.fit(housing, housing_labels)'''"
   ]
  },
  {
   "cell_type": "markdown",
   "metadata": {},
   "source": [
    "# Cross-validation"
   ]
  },
  {
   "cell_type": "code",
   "execution_count": 144,
   "metadata": {},
   "outputs": [
    {
     "data": {
      "text/plain": [
       "'from sklearn.model_selection import cross_val_score\\ncross_val_score(tree_reg, house_scale, housing_labels, cv=10, scoring=\"neg_mean_squared_error\")'"
      ]
     },
     "execution_count": 144,
     "metadata": {},
     "output_type": "execute_result"
    }
   ],
   "source": [
    "'''from sklearn.model_selection import cross_val_score\n",
    "cross_val_score(tree_reg, house_scale, housing_labels, cv=10, scoring=\"neg_mean_squared_error\")'''"
   ]
  },
  {
   "cell_type": "markdown",
   "metadata": {},
   "source": [
    "## RMSE"
   ]
  },
  {
   "cell_type": "code",
   "execution_count": 146,
   "metadata": {},
   "outputs": [
    {
     "data": {
      "text/plain": [
       "1.1815515224588689"
      ]
     },
     "execution_count": 146,
     "metadata": {},
     "output_type": "execute_result"
    }
   ],
   "source": [
    "from sklearn.metrics import mean_squared_error\n",
    "housing_predictions = gbrt.predict(house_scale)\n",
    "lin_mse_train = mean_squared_error(housing_labels, housing_predictions)\n",
    "lin_rmse_train = np.sqrt(lin_mse_train)\n",
    "lin_rmse_train"
   ]
  },
  {
   "cell_type": "code",
   "execution_count": 148,
   "metadata": {},
   "outputs": [
    {
     "data": {
      "text/plain": [
       "130598.03553796512"
      ]
     },
     "execution_count": 148,
     "metadata": {},
     "output_type": "execute_result"
    }
   ],
   "source": [
    "from sklearn.metrics import mean_squared_error\n",
    "housing_predictions = gbrt.predict(test_scale)\n",
    "lin_mse = mean_squared_error(test_labels, housing_predictions)\n",
    "lin_rmse = np.sqrt(lin_mse)\n",
    "lin_rmse"
   ]
  },
  {
   "cell_type": "code",
   "execution_count": 150,
   "metadata": {},
   "outputs": [
    {
     "data": {
      "text/plain": [
       "65299.60854474379"
      ]
     },
     "execution_count": 150,
     "metadata": {},
     "output_type": "execute_result"
    }
   ],
   "source": [
    "final_scroe = (lin_rmse_train + lin_rmse)/2\n",
    "final_scroe"
   ]
  }
 ],
 "metadata": {
  "kernelspec": {
   "display_name": "Python 3",
   "language": "python",
   "name": "python3"
  },
  "language_info": {
   "codemirror_mode": {
    "name": "ipython",
    "version": 3
   },
   "file_extension": ".py",
   "mimetype": "text/x-python",
   "name": "python",
   "nbconvert_exporter": "python",
   "pygments_lexer": "ipython3",
   "version": "3.7.7"
  }
 },
 "nbformat": 4,
 "nbformat_minor": 2
}
